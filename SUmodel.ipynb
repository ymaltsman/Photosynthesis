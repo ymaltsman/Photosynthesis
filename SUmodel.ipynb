{
 "cells": [
  {
   "cell_type": "markdown",
   "metadata": {},
   "source": [
    "Unfortunately Github doesn't render ipywidgets, which allow us to interactively alter the parameters of the model. If you want to mess with the parameters yourself then download this file, and also install and activate ipywidgets, which you can do in the command line interface with the following commands:\n",
    "```\n",
    "pip install ipywidgets\n",
    "jupyter nbextension enable --py widgetsnbextension\n",
    "jupyter labextension install @jupyter-widgets/jupyterlab-manager\n",
    "```"
   ]
  },
  {
   "cell_type": "markdown",
   "metadata": {},
   "source": [
    "<img src=\"SUschema.png\">\n",
    "Fig 1: Schematic to represent the various reactions of photosynthesis through synthesising units. Each synthesizing unit has incoming and outgoing fluxes. "
   ]
  },
  {
   "cell_type": "markdown",
   "metadata": {},
   "source": [
    "<img src = \"carbo_oxo.png\">\n",
    "Fig 2: Schematic for simultaneous oxygenation and carboxylation of RuBP according to SU kinetics, whereby forward reactions are much stronger than reverse reactions. "
   ]
  },
  {
   "cell_type": "markdown",
   "metadata": {},
   "source": [
    "<h2>Current Model and Next Steps</h2>\n",
    "The schematic in figure 1 depicts different fluxes for ATP and NADPH. This will likely be neccessary to account for balancing of the ATP:NADPH ratio through Cyclic Electron Transport, export of NADPH, or some other method. Currently, however, we set $j_{ATP} = j_{NADPH} = j_{PQ}$, the rate of photochemcial quenching."
   ]
  },
  {
   "cell_type": "markdown",
   "metadata": {},
   "source": [
    "<h3>PGA reduction and Calvin Cycle</h3>\n",
    "Based on the schematic in figure 1, the net rate of photosynthesis, $j_{prod}$ incorporates the electron transport flux $j_{PQ}$ and the PGA synthesis flux $j_{pga,net}$ in parallel. Formulated according to Kooijman 1998's Synthesizing Unit kinetics:\n",
    "\\begin{equation}\n",
    "    j_{prod} = (\\frac{1}{k_{E_C}} + \\frac{1}{\\kappa_C j_{PQ}} + \\frac{1}{j_{pga,net}} - \\frac{1}{\\kappa_C j_{PQ} + j_{pga,net}})^{-1}\n",
    "\\end{equation}\n",
    "where $k_{E_R}$ represents the maximum velocity of enzymes in the reduction of PGA, and $\\kappa_C$ represents the number of PGA produced per product of electron transport.\n",
    "$j_{pga,net} = 2j_{cA} + \\frac{3}{2}j_{oA}$ as for every Carbon consumed, 2 PGA are produced, and for every 2 Oxygen consumed, 3 PGA are produced."
   ]
  },
  {
   "cell_type": "markdown",
   "metadata": {},
   "source": [
    "We can derive $j_{cA}$ as $-d[C]_T/dt$ based on figure 2, which yields \n",
    "$$j_{cA} = -k^+_c[C][E]_T(1 + \\frac{k^+_R[R]}{k^+_o[O] + k^+_c[C]})f_E $$\n",
    "where \n",
    "$$ f_E = \\frac{[E]}{[E]_T} = (1 + (\\frac{1}{k^+_R[R]} + 1)(\\tilde{k^+_o}[O] +  \\tilde{k^+_c}[C]) + k^+_R[R]\\frac{1 + \\tilde{k^+_o}[O] +  \\tilde{k^+_c}[C]}{k^+_o[O] +  k^+_c[C]})^{-1} $$\n",
    "where $\\tilde{k^+_o} = k^+_o/\\tilde{k_{ERO}}$ and $\\tilde{k^+_c} = k^+_c/\\tilde{k_{ERC}}$, whereby $\\tilde{k_{ERC}} = k_{ERC}+k^-_c+k^-_R$ and $\\tilde{k_{ERO}} = k_{ERO}+k^-_o+k^-_R$\n",
    "<br>\n",
    "By symmetry,\n",
    "$$j_{oA} = -k^+_o[O][E]_T(1 + \\frac{k^+_R[R]}{k^+_c[C] + k^+_o[O]})f_E $$"
   ]
  },
  {
   "cell_type": "markdown",
   "metadata": {},
   "source": [
    "<h4>Additional factors to consider for Calvin Cycle/PGA reduction.</h4>\n",
    "PGA and Ribulose-5-Phosphate compete for ATP, whereas in this model the rate of ATP delivered to both reactions (see RuBP regeneration) is equal to the overall rate of electron transport."
   ]
  },
  {
   "cell_type": "markdown",
   "metadata": {},
   "source": [
    "<h4>Incorporating RuBP regeneration</h4>\n",
    "Based on figures 1 and 2, we can derive a dynamical system for the consumption and regeneration of $R$:\n",
    "$$\n",
    "\\frac{dR}{dt} = -[E]_Tf_E(k^+_R[R] + k^+_c[C] + k^+_o[O]) + (\\frac{1}{k_{E_R}} +\\frac{1}{\\kappa_R j_{PQ}} + \\frac{1}{j_{prod}} - \\frac{1}{(\\kappa_R j_{PQ} + j_{prod}})^{-1}\n",
    "$$\n",
    "where $\\kappa_R$ represents the number of RuBP generated per product of electron transport, and $k_{E_R} represents the velocities of enzymes involved in RuBP regeneration, such as Ribulose-5-phosphate kinase.  \n"
   ]
  },
  {
   "cell_type": "markdown",
   "metadata": {},
   "source": [
    "<h3>Light reactions and electron transport</h3>"
   ]
  },
  {
   "cell_type": "markdown",
   "metadata": {},
   "source": [
    "<h4>Ye model</h4>\n",
    "We started by using the electron transport rate derived by Ye et al (Ye 2013):\n",
    "$$ j_{ph} = \\alpha_e \\frac{1-\\beta_eI}{1+\\gamma_eI}I\n",
    "$$\n",
    "where $\\alpha_e$ is the initial slope of the $j_{ph}$-$I$ curve, and $\\beta_e$ and $\\gamma_e$ are the coefficiencts for photoinhibition and light saturation, respectively. $I$ is irradiance. This model runs into a couple issues, one being that $j_{ph}$ can become negative, and the other that the probabilities of NPQ and flourescence are independant of light."
   ]
  },
  {
   "cell_type": "markdown",
   "metadata": {},
   "source": [
    "<h4> Alternatives to Ye model </h4>"
   ]
  },
  {
   "cell_type": "markdown",
   "metadata": {},
   "source": [
    "<h4>Model A: Incorporating light dependant flourescence</h4>\n",
    "We can potentially correct the Ye model by revising the original derivation and multiplying $\\xi_3R_{ki}$ by $I$, leading to:\n",
    "$$\n",
    "j_{ph} = \\alpha_e \\frac{1-\\frac{\\beta_eI}{z_1I+z_2}}{1+\\gamma_eI}I\n",
    "$$\n"
   ]
  },
  {
   "cell_type": "markdown",
   "metadata": {},
   "source": [
    "<h4>Model B: Circuit formulation</h4>\n",
    "We can treat both light dependant ($R_I$) and light independant ($R_C$) photoinhibitory mechanisms as resistances to photochemistry, where $R_I = R_{I0}I$. $I$ is analogous to voltage. \n",
    "<img src = \"circuit.png\">\n",
    "Thus, using Ohm's law, ${j_ph} = \\frac{I}{R_{I0}I+R_C}$. At high light intensities, $j_{ph}$ saturates to $\\frac{1}{R_{I0}}$ so we can say $R_{I0} = 1/j_{max}$"
   ]
  },
  {
   "cell_type": "markdown",
   "metadata": {},
   "source": [
    "<h3> Model C: Balancing fluxes with a dynamical system </h3>\n",
    "<img src = \"lightreaction.png\">\n",
    "We seek to mechanistically model the light reactions by balancing incoming and outgoing fluxes. Light ($j_I$) is intercepted by flourescence ($j_F$) and thermal dissipation ($j_{NPQ}$), the latter of which is controlled by the pH gradient, which is determined by the difference between the incoming flux from photochemical quenching, $j_{PQ}(t-1)$, and outgoing ATP flux, $j_{ATP}(t-1)$. $j_{ATP}$ depends on the rate of the Calvin Cycle, which in turn depends on $j_{PQ}$. Thus, we can formulate $j_{PQ}$ as a discrete dynamical system, where $j_{PQ}(t) = f(j_{PQ}(t-1))$.\n",
    "Ultimately, it would be interesting if the system is able to imitate the following experimental results:\n",
    "<img src=\"darkacc.png\">"
   ]
  },
  {
   "cell_type": "markdown",
   "metadata": {},
   "source": [
    "As we can see in the schematic, $J_{PQ}$ is the portion of irradiance not used for flourescence and thermal dissipation.\n",
    "$$\n",
    "j_{PQ}(t) = j_I - j_F - j_{NPQ}(t)\n",
    "$$\n",
    "Where we can think of $j_{NPQ}$ as consuming a fraction $f_{NPQ}$ of $j_H$, which represents the build up of protons due to the difference between the incoming $j_{PQ}(t-1)$ and outgoing $j_{ATP}(t-1)$.\n",
    "$$\n",
    "j_{NPQ} = f_{NPQ}(j_{PQ}(t-1) - j_{ATP}(t-1))\n",
    "$$\n",
    "We treat ATP synthase as a synthesizing unit, where light and ADP from the Calvin cycle are consumed to form ATP:\n",
    "$$\n",
    "j_{ATP}(t-1) = (\\frac{1}{j_{syn}} + \\frac{1}{j_{PQ}(t-1)} + \\frac{1}{j_{ADP}(t-1)} - \\frac{1}{j_{PQ}(t-1) + j_{ADP}(t-1)})^{-1}\n",
    "$$\n",
    "Where \n",
    "$$\n",
    "j_{ADP}(t-1) = \\frac{2}{3}j_{prod}(t-1) + \\frac{1}{3}j_{RuBP}(t-1)\n",
    "$$\n",
    "In $j_{prod}$ and $j_{RuBP}$, $j_{ph}$ would be replaced with $j_{PQ}(t-1)$"
   ]
  },
  {
   "cell_type": "code",
   "execution_count": null,
   "metadata": {},
   "outputs": [],
   "source": [
    "zun = .21\n",
    "zdo = .33"
   ]
  },
  {
   "cell_type": "code",
   "execution_count": 26,
   "metadata": {},
   "outputs": [],
   "source": [
    "def jpha(I, zun = zun, zdo = zdo):\n",
    "    frac = beta*I/(zun*I+zdo)\n",
    "    jph = I*alpha*(1-frac)/(1+gamma*I)\n",
    "    return jph"
   ]
  },
  {
   "cell_type": "code",
   "execution_count": 27,
   "metadata": {},
   "outputs": [],
   "source": [
    "#model Aa: multiplying I by both parameters\n",
    "def jphaa(I, zun=zun, zdo=zdo):\n",
    "    frac = beta*I/(zun*I+zdo*I)\n",
    "    jph = I*alpha*(1-frac)/(1+gamma*I)\n",
    "    return jph"
   ]
  },
  {
   "cell_type": "markdown",
   "metadata": {},
   "source": [
    "<h4>Circuit formulation</h4>\n",
    "We can treat both light dependant ($R_I$) and light independant ($R_C$) photoinhibitory mechanisms as resistances to photochemistry, where $R_I = R_{I0}I$. $I$ is analogous to voltage. \n",
    "<img src = \"circuit.png\">\n",
    "Thus, using Ohm's law, ${j_ph} = \\frac{I}{R_{I0}I+R_C}$. At high light intensities, $j_{ph}$ saturates to $\\frac{1}{R_{I0}}$ so we can say $R_{I0} = 1/j_{max}$"
   ]
  },
  {
   "cell_type": "code",
   "execution_count": 31,
   "metadata": {},
   "outputs": [],
   "source": [
    "def dRdt(R, C = 230, O =210, kc = kc, ko = ko, I = I, Et = Et, alpha = alpha, beta = beta, gamma = gamma, kr = kr, kE = kE, kERO=kERO, kERC = kERC):\n",
    "    jph = I*alpha*(1-beta*I)/(1+gamma*I)\n",
    "    ksum = ko*O/kERO + kc*C/kERC\n",
    "    fE = (1 + ((1/(kr*R))+1)*ksum + kr*R*(1+ksum)/(ko*O + kc*C))**(-1)\n",
    "    jcA = kc*C*Et*(1+(kr*R/ksum))*fE\n",
    "    joA = ko*O*Et*(1+(kr*R/ksum))*fE\n",
    "    jpga = (2*jcA+1.5*joA)\n",
    "    jprod = ((1/kE)+(1/jph)+(1/jpga)-(1/(jpga+jph)))**(-1)\n",
    "    dRdt = -1*Et*fE*(kr*R+kc*C+ko*O) + (5/6)*jprod\n",
    "    return dRdt"
   ]
  },
  {
   "cell_type": "code",
   "execution_count": 1,
   "metadata": {
    "scrolled": true
   },
   "outputs": [
    {
     "ename": "NameError",
     "evalue": "name 'interact' is not defined",
     "output_type": "error",
     "traceback": [
      "\u001b[1;31m---------------------------------------------------------------------------\u001b[0m",
      "\u001b[1;31mNameError\u001b[0m                                 Traceback (most recent call last)",
      "\u001b[1;32m<ipython-input-1-7b3d7144db2e>\u001b[0m in \u001b[0;36m<module>\u001b[1;34m\u001b[0m\n\u001b[1;32m----> 1\u001b[1;33m \u001b[1;33m@\u001b[0m\u001b[0minteract\u001b[0m\u001b[1;33m(\u001b[0m\u001b[0malpha\u001b[0m\u001b[1;33m=\u001b[0m\u001b[1;33m(\u001b[0m\u001b[1;36m0.01\u001b[0m\u001b[1;33m,\u001b[0m\u001b[1;36m10\u001b[0m\u001b[1;33m,\u001b[0m\u001b[1;36m.1\u001b[0m\u001b[1;33m)\u001b[0m\u001b[1;33m,\u001b[0m \u001b[0mdt\u001b[0m \u001b[1;33m=\u001b[0m \u001b[1;33m(\u001b[0m\u001b[1;36m0\u001b[0m\u001b[1;33m,\u001b[0m\u001b[1;36m.01\u001b[0m\u001b[1;33m,\u001b[0m \u001b[1;36m.001\u001b[0m\u001b[1;33m)\u001b[0m\u001b[1;33m,\u001b[0m \u001b[0mtsteps\u001b[0m\u001b[1;33m=\u001b[0m\u001b[1;33m(\u001b[0m\u001b[1;36m0\u001b[0m\u001b[1;33m,\u001b[0m\u001b[1;36m100000\u001b[0m\u001b[1;33m,\u001b[0m \u001b[1;36m10\u001b[0m\u001b[1;33m)\u001b[0m\u001b[1;33m,\u001b[0m \u001b[0mkE\u001b[0m\u001b[1;33m=\u001b[0m\u001b[1;33m(\u001b[0m\u001b[1;36m0\u001b[0m\u001b[1;33m,\u001b[0m \u001b[1;36m100000000\u001b[0m\u001b[1;33m,\u001b[0m\u001b[1;36m1\u001b[0m\u001b[1;33m)\u001b[0m\u001b[1;33m)\u001b[0m\u001b[1;33m\u001b[0m\u001b[1;33m\u001b[0m\u001b[0m\n\u001b[0m\u001b[0;32m      2\u001b[0m \u001b[1;32mdef\u001b[0m \u001b[0msimulateR\u001b[0m\u001b[1;33m(\u001b[0m\u001b[0mdt\u001b[0m \u001b[1;33m=\u001b[0m \u001b[1;36m.001\u001b[0m\u001b[1;33m,\u001b[0m \u001b[0mtsteps\u001b[0m \u001b[1;33m=\u001b[0m \u001b[1;36m1000\u001b[0m\u001b[1;33m,\u001b[0m \u001b[0mRo\u001b[0m \u001b[1;33m=\u001b[0m \u001b[1;36m1\u001b[0m\u001b[1;33m,\u001b[0m \u001b[0mC\u001b[0m \u001b[1;33m=\u001b[0m \u001b[1;36m230\u001b[0m\u001b[1;33m,\u001b[0m \u001b[0mO\u001b[0m \u001b[1;33m=\u001b[0m\u001b[1;36m210\u001b[0m\u001b[1;33m,\u001b[0m \u001b[0mkc\u001b[0m \u001b[1;33m=\u001b[0m \u001b[0mkc\u001b[0m\u001b[1;33m,\u001b[0m \u001b[0mko\u001b[0m \u001b[1;33m=\u001b[0m \u001b[0mko\u001b[0m\u001b[1;33m,\u001b[0m \u001b[0mI\u001b[0m \u001b[1;33m=\u001b[0m \u001b[0mI\u001b[0m\u001b[1;33m,\u001b[0m \u001b[0mEt\u001b[0m \u001b[1;33m=\u001b[0m \u001b[0mEt\u001b[0m\u001b[1;33m,\u001b[0m \u001b[0malpha\u001b[0m \u001b[1;33m=\u001b[0m \u001b[0malpha\u001b[0m\u001b[1;33m,\u001b[0m \u001b[0mbeta\u001b[0m \u001b[1;33m=\u001b[0m \u001b[0mbeta\u001b[0m\u001b[1;33m,\u001b[0m \u001b[0mgamma\u001b[0m \u001b[1;33m=\u001b[0m \u001b[0mgamma\u001b[0m\u001b[1;33m,\u001b[0m \u001b[0mkr\u001b[0m \u001b[1;33m=\u001b[0m \u001b[0mkr\u001b[0m\u001b[1;33m,\u001b[0m \u001b[0mkE\u001b[0m \u001b[1;33m=\u001b[0m \u001b[1;36m1000\u001b[0m\u001b[1;33m,\u001b[0m \u001b[0mkERO\u001b[0m\u001b[1;33m=\u001b[0m\u001b[0mkERO\u001b[0m\u001b[1;33m,\u001b[0m \u001b[0mkERC\u001b[0m \u001b[1;33m=\u001b[0m \u001b[0mkERC\u001b[0m\u001b[1;33m)\u001b[0m\u001b[1;33m:\u001b[0m\u001b[1;33m\u001b[0m\u001b[1;33m\u001b[0m\u001b[0m\n\u001b[0;32m      3\u001b[0m     \u001b[0mRlist\u001b[0m \u001b[1;33m=\u001b[0m \u001b[0mnp\u001b[0m\u001b[1;33m.\u001b[0m\u001b[0mzeros\u001b[0m\u001b[1;33m(\u001b[0m\u001b[0mtsteps\u001b[0m\u001b[1;33m)\u001b[0m\u001b[1;33m\u001b[0m\u001b[1;33m\u001b[0m\u001b[0m\n\u001b[0;32m      4\u001b[0m     \u001b[0mRlist\u001b[0m\u001b[1;33m[\u001b[0m\u001b[1;36m0\u001b[0m\u001b[1;33m]\u001b[0m \u001b[1;33m=\u001b[0m \u001b[0mRo\u001b[0m\u001b[1;33m\u001b[0m\u001b[1;33m\u001b[0m\u001b[0m\n\u001b[0;32m      5\u001b[0m     \u001b[0mjprodlist\u001b[0m \u001b[1;33m=\u001b[0m \u001b[0mnp\u001b[0m\u001b[1;33m.\u001b[0m\u001b[0mzeros\u001b[0m\u001b[1;33m(\u001b[0m\u001b[0mtsteps\u001b[0m\u001b[1;33m)\u001b[0m\u001b[1;33m\u001b[0m\u001b[1;33m\u001b[0m\u001b[0m\n",
      "\u001b[1;31mNameError\u001b[0m: name 'interact' is not defined"
     ]
    }
   ],
   "source": [
    "@interact(alpha=(0.01,10,.1), dt = (0,.01, .001), tsteps=(0,100000, 10), kE=(0, 100000000,1))\n",
    "def simulateR(dt = .001, tsteps = 1000, Ro = 1, C = 230, O =210, kc = kc, ko = ko, I = I, Et = Et, alpha = alpha, beta = beta, gamma = gamma, kr = kr, kE = 1000, kERO=kERO, kERC = kERC):\n",
    "    Rlist = np.zeros(tsteps)\n",
    "    Rlist[0] = Ro\n",
    "    jprodlist = np.zeros(tsteps)\n",
    "    jprodlist[0] = jprod(Ro)\n",
    "    for t in range(tsteps-1):\n",
    "        jprodlist[t+1] = jprod(Rlist[t])\n",
    "        Rlist[t+1] = Rlist[t] + dRdt(Rlist[t], alpha = alpha, kE = kE, C = C)*dt\n",
    "    print(Rlist[tsteps-2], jprodlist[tsteps-2])\n",
    "    plt.plot(range(tsteps), Rlist, label='RuBp')\n",
    "    #plt.plot(range(tsteps), jprodlist, label = 'jprod')\n",
    "    plt.legend()\n",
    "    plt.xlabel('time')\n",
    "    plt.show()\n",
    "    #print(Rlist)"
   ]
  },
  {
   "cell_type": "markdown",
   "metadata": {},
   "source": [
    "*Notes 2/12: I've realized that this model will inevitably cause RuBP to decrease to zero. If, at every time step, $R$ is decreasing by close to $j_{prod}$, and only increasing by $5/6*j_{prod}$, then it will eventually just be used up. I noticed that if $j_{prod}$ is multiplied by a scaling factor of about 55 or greater, then $R$ will increase rather than decrease. If $j_{prod}$ is multiplied by 53, it will decrease, but to around 70 rather than to zero. We may get around this issue by considering that only 2/3 of the ATP generated by light is used for $j_{prod}$, while the rest is used directly for RuBP production.*"
   ]
  },
  {
   "cell_type": "markdown",
   "metadata": {},
   "source": [
    "*Notes 2/15: It actually turns out that R does not go to zero but to a value close to zero. However, increasing alpha can increase this value significantly.*"
   ]
  },
  {
   "cell_type": "markdown",
   "metadata": {},
   "source": [
    "<h4>Revised dR/dt model</h4>\n",
    "We now incorporate the partitioning of ATP between TPU production and RuBP regeneration into our model:\n",
    "$$\n",
    "\\frac{dR}{dt} = -[E]_Tf_E(k^+_R[R] + k^+_c[C] + k^+_o[O]) + (\\frac{1}{k_{E_2}} +\\frac{3}{j_{ph}} + \\frac{6}{5 j_{prod}} - \\frac{1}{(1/3) j_{ph} + (5/6) j_{prod}})^{-1}\n",
    "$$\n",
    "where we slightly modify $j_{prod}$\n",
    "$$\n",
    "j_{prod} = (\\frac{1}{k_{E_1}} + \\frac{3}{2 j_{ph}} + \\frac{1}{j_{pga,net}} - \\frac{1}{j_{pga,net} + (2/3) j_{ph}})^{-1}\n",
    "$$\n",
    "where $k_{E_1}$ and $k_{E_2}$ represent the velocities of enzymes in the production of G3P (phosphoglycerate kinase and NADP:G3P dehydrogenase) and RuBP regeneration (Ribulose-5-phosphate kinase, etc.) respectively.\n"
   ]
  },
  {
   "cell_type": "markdown",
   "metadata": {},
   "source": [
    "*Notes 2/12: Since I don't know $k_{E_1}$ and $k_{E_2}$, I can formulate them as multiples of $k_c$, which is known from the Farquhar paper. So we set $k_{E_1} = \\alpha_1 k_c$, $k_{E_2} = \\alpha_2 k_c$.*"
   ]
  },
  {
   "cell_type": "code",
   "execution_count": 33,
   "metadata": {},
   "outputs": [],
   "source": [
    "alphaa = 1\n",
    "alphab = 1000"
   ]
  },
  {
   "cell_type": "code",
   "execution_count": 34,
   "metadata": {},
   "outputs": [],
   "source": [
    "#Coding the revised model\n",
    "def dRdtalt(R, C = 230, O =210, kc = kc, ko = ko, alphaa = alphaa, alphab=alphab, I = I, Et = Et, alpha = alpha, beta = beta, gamma = gamma, kr = kr, kE = kE, kERO=kERO, kERC = kERC):\n",
    "    jph = I*alpha*(1-beta*I)/(1+gamma*I)\n",
    "    ksum = ko*O/kERO + kc*C/kERC\n",
    "    fE = (1 + ((1/(kr*R))+1)*ksum + kr*R*(1+ksum)/(ko*O + kc*C))**(-1)\n",
    "    jcA = kc*C*Et*(1+(kr*R/ksum))*fE\n",
    "    joA = ko*O*Et*(1+(kr*R/ksum))*fE\n",
    "    jpga = (2*jcA+1.5*joA)\n",
    "    kEa = alphaa*kc\n",
    "    kEb = alphab*kc\n",
    "    jpc = (2/3)*jph\n",
    "    jpr = (1/3)*jph\n",
    "    jprod = (5/6)*((1/kEa)+(1/jpc)+(1/jpga)-(1/(jpga+jpc)))**(-1)\n",
    "    jrubp = (1/kEb + 1/jpr + 1/jprod - 1/(jpr+jprod))**(-1)\n",
    "    dRdt = -1*Et*fE*(kr*R+kc*C+ko*O) + jrubp\n",
    "    return dRdt"
   ]
  },
  {
   "cell_type": "code",
   "execution_count": 35,
   "metadata": {
    "scrolled": true
   },
   "outputs": [
    {
     "data": {
      "image/png": "[encoded data removed]",
      "text/plain": [
       "<Figure size 432x288 with 1 Axes>"
      ]
     },
     "metadata": {
      "needs_background": "light"
     },
     "output_type": "display_data"
    }
   ],
   "source": [
    "@interact(alphaa = (0.1, 1000, 10), alphab = (0, 1000, 10))\n",
    "def simulatealtR(Ro = 100, tsteps = 2000, dt = .001, C = 230, O =210, kc = kc, ko = ko, alphaa = alphaa, alphab=alphab, I = I, Et = Et, alpha = alpha, beta = beta, gamma = gamma, kr = kr, kE = kE, kERO=kERO, kERC = kERC):\n",
    "    R = np.zeros(tsteps)\n",
    "    R[0] = Ro\n",
    "    for t in range(tsteps-1):\n",
    "        R[t+1] = R[t] + dRdtalt(R[t], alpha = alpha, alphaa = alphaa, alphab = alphab)*dt\n",
    "    plt.plot(range(tsteps),R, label = 'RuBP')\n",
    "    plt.legend()\n",
    "    plt.xlabel('time')\n",
    "    plt.show()"
   ]
  },
  {
   "cell_type": "markdown",
   "metadata": {},
   "source": [
    "<h4>Analyzing dR/dt </h4>\n",
    "One way that we can analyze dR/dt is by simultaneously analyzing the consumption of R and the production of R for fixed R."
   ]
  },
  {
   "cell_type": "code",
   "execution_count": 36,
   "metadata": {},
   "outputs": [],
   "source": [
    "def splitR(R, kE = 100):\n",
    "    jph = I*alpha*(1-beta*I)/(1+gamma*I)\n",
    "    ksum = ko*O/kERO + kc*C/kERC\n",
    "    fE = (1 + ((1/(kr*R))+1)*ksum + kr*R*(1+ksum)/(ko*O + kc*C))**(-1)\n",
    "    jcA = kc*C*Et*(1+(kr*R/ksum))*fE\n",
    "    joA = ko*O*Et*(1+(kr*R/ksum))*fE\n",
    "    jpga = (2*jcA+1.5*joA)\n",
    "    jprod = ((1/kE)+(1/jph)+(1/jpga)-(1/(jpga+jph)))**(-1)\n",
    "    cons = Et*fE*(kr*R+kc*C+ko*O)\n",
    "    return cons, jprod"
   ]
  },
  {
   "cell_type": "code",
   "execution_count": 37,
   "metadata": {},
   "outputs": [
    {
     "data": {
      "image/png": "[encoded data removed]",
      "text/plain": [
       "<Figure size 432x288 with 1 Axes>"
      ]
     },
     "metadata": {
      "needs_background": "light"
     },
     "output_type": "display_data"
    }
   ],
   "source": [
    "@interact()\n",
    "def simulatesplitR(Rrange = 500, kE = 10000):\n",
    "    consl = []\n",
    "    jprodl = []\n",
    "    Rl = range(1,Rrange)\n",
    "    for r in Rl:\n",
    "        cons, jprod = splitR(r, kE)\n",
    "        consl.append(cons)\n",
    "        jprodl.append(jprod)\n",
    "    plt.plot(Rl, consl, label = 'Vcons')\n",
    "    plt.plot(Rl, jprodl, label = 'Vprod')\n",
    "    plt.legend()\n",
    "    plt.xlabel('RuBP')\n",
    "    plt.show()"
   ]
  },
  {
   "cell_type": "markdown",
   "metadata": {},
   "source": [
    "<h3> Modelling light reactions by balancing fluxes </h3>\n",
    "<img src = \"lightreaction.png\">\n",
    "We seek to mechanistically model the light reactions by balancing incoming and outgoing fluxes. Light ($j_I$) is intercepted by flourescence ($j_F$) and thermal dissipation ($j_{NPQ}$), the latter of which is controlled by the pH gradient, which is determined by the difference between the incoming flux from photochemical quenching, $j_{PQ}(t-1)$, and outgoing ATP flux, $j_{ATP}(t-1)$. $j_{ATP}$ depends on the rate of the Calvin Cycle, which in turn depends on $j_{PQ}$. Thus, we can formulate $j_{PQ}$ as a discrete dynamical system, where $j_{PQ}(t) = f(j_{PQ}(t-1))$.\n",
    "Ultimately, it would be interesting if the system is able to imitate the following experimental results:\n",
    "<img src=\"darkacc.png\">"
   ]
  },
  {
   "cell_type": "markdown",
   "metadata": {},
   "source": [
    "As we can see in the schematic, $J_{PQ}$ is the portion of irradiance not used for flourescence and thermal dissipation.\n",
    "$$\n",
    "j_{PQ}(t) = j_I - j_F - j_{NPQ}(t)\n",
    "$$\n",
    "Where we can think of $j_{NPQ}$ as consuming a fraction $f_{NPQ}$ of $j_H$, which represents the build up of protons due to the difference between the incoming $j_{PQ}(t-1)$ and outgoing $j_{ATP}(t-1)$.\n",
    "$$\n",
    "j_{NPQ} = f_{NPQ}(j_{PQ}(t-1) - j_{ATP}(t-1))\n",
    "$$\n",
    "We treat ATP synthase as a synthesizing unit, where light and ADP from the Calvin cycle are consumed to form ATP:\n",
    "$$\n",
    "j_{ATP}(t-1) = (\\frac{1}{j_{syn}} + \\frac{1}{j_{PQ}(t-1)} + \\frac{1}{j_{ADP}(t-1)} - \\frac{1}{j_{PQ}(t-1) + j_{ADP}(t-1)})^{-1}\n",
    "$$\n",
    "Where \n",
    "$$\n",
    "j_{ADP}(t-1) = \\frac{2}{3}j_{prod}(t-1) + \\frac{1}{3}j_{RuBP}(t-1)\n",
    "$$\n",
    "In $j_{prod}$ and $j_{RuBP}$, $j_{ph}$ would be replaced with $j_{PQ}(t-1)$"
   ]
  },
  {
   "cell_type": "code",
   "execution_count": 43,
   "metadata": {},
   "outputs": [],
   "source": [
    "def jprodalt(pq, I, R):\n",
    "    jph = pq\n",
    "    ksum = ko*O/kERO + kc*C/kERC\n",
    "    fE = (1 + ((1/(kr*R))+1)*ksum + kr*R*(1+ksum)/(ko*O + kc*C))**(-1)\n",
    "    jcA = kc*C*Et*(1+(kr*R/ksum))*fE\n",
    "    joA = ko*O*Et*(1+(kr*R/ksum))*fE\n",
    "    jpga = (2*jcA+1.5*joA)\n",
    "    jprod = ((1/kE)+(1/jph)+(1/jpga)-(1/(jpga+jph)))**(-1)\n",
    "    dRdt = -1*Et*fE*(kr*R+kc*C+ko*O) + (5/6)*jprod\n",
    "    return jprod, dRdt"
   ]
  },
  {
   "cell_type": "code",
   "execution_count": 44,
   "metadata": {},
   "outputs": [],
   "source": [
    "def jpq(pq, I, R, jf=.1*I, fnpq=.2, jsyn=1.5):\n",
    "    jp, jr = jprodalt(pq, I, R)\n",
    "    jadp = 2*jp/3 + jr/3\n",
    "    jatp = (1/jsyn + 1/pq + 1/jadp - 1/(pq + jadp))**(-1)\n",
    "    jnpq = fnpq*(pq - jatp)\n",
    "    jpq = I - jf - jnpq\n",
    "    return jpq, jr, jnpq"
   ]
  },
  {
   "cell_type": "code",
   "execution_count": 45,
   "metadata": {},
   "outputs": [],
   "source": [
    "def logistic(Io, Imax, x, kl):\n",
    "    f = Imax/(1+np.exp(-kl*(x-Io)))\n",
    "    return f"
   ]
  },
  {
   "cell_type": "code",
   "execution_count": 46,
   "metadata": {},
   "outputs": [
    {
     "data": {
      "image/png": "[encoded data removed]",
      "text/plain": [
       "<Figure size 432x288 with 1 Axes>"
      ]
     },
     "metadata": {
      "needs_background": "light"
     },
     "output_type": "display_data"
    }
   ],
   "source": [
    "@interact(pqo = (0,10,.1), Ro=(0,500,10), time = (0,1000,1))\n",
    "def integrated(pqo, Ro, Io=100, Imax=500, kl = 1, time=1000, dt = .001, C = 230, O =210, kc = kc, ko = ko, Et = Et, alpha = alpha, beta = beta, gamma = gamma, kr = kr, kE = kE, kERO=kERO, kERC = kERC):\n",
    "    tsteps = np.linspace(0, time, time*10)\n",
    "    jpqlist = np.zeros(len(tsteps))\n",
    "    Rlist = np.zeros(len(tsteps))\n",
    "    npqlist = np.zeros(len(tsteps))\n",
    "    jpqlist[0] = pqo\n",
    "    Rlist[0] = Ro\n",
    "    ilist = [logistic(Io, Imax, t, kl) for t in tsteps]\n",
    "    for t in range(len(tsteps)-1):\n",
    "        jp, jr, npq = jpq(jpqlist[t], ilist[t], Rlist[t])\n",
    "        Rlist[t+1] = Rlist[t] + jr*dt\n",
    "        jpqlist[t+1] = jp\n",
    "        npqlist[t] = npq\n",
    "    plt.plot(tsteps, jpqlist, label='Jpq')\n",
    "    #plt.plot(tsteps, Rlist, label = 'RuBP')\n",
    "    plt.plot(tsteps, ilist, label='Irradiance')\n",
    "    npqlist[-1] = npqlist[-2]\n",
    "    plt.plot(tsteps, npqlist, label='NPQ')\n",
    "    plt.legend()\n",
    "    plt.xlabel('time')\n",
    "    plt.show()\n",
    "        "
   ]
  },
  {
   "cell_type": "code",
   "execution_count": null,
   "metadata": {},
   "outputs": [],
   "source": []
  }
 ],
 "metadata": {
  "kernelspec": {
   "display_name": "Python 3",
   "language": "python",
   "name": "python3"
  },
  "language_info": {
   "codemirror_mode": {
    "name": "ipython",
    "version": 3
   },
   "file_extension": ".py",
   "mimetype": "text/x-python",
   "name": "python",
   "nbconvert_exporter": "python",
   "pygments_lexer": "ipython3",
   "version": "3.7.3"
  }
 },
 "nbformat": 4,
 "nbformat_minor": 4
}
