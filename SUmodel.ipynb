{
 "cells": [
  {
   "cell_type": "markdown",
   "metadata": {},
   "source": [
    "Unfortunately Github doesn't render ipywidgets, which allow us to interactively alter the parameters of the model. If you want to mess with the parameters yourself then download this file, and also install and activate ipywidgets, which you can do in the command line interface with the following commands:\n",
    "```\n",
    "pip install ipywidgets\n",
    "jupyter nbextension enable --py widgetsnbextension\n",
    "jupyter labextension install @jupyter-widgets/jupyterlab-manager\n",
    "```"
   ]
  },
  {
   "cell_type": "markdown",
   "metadata": {},
   "source": [
    "*things I am still confused about*\n",
    "<br>-calculating kinetic parameters such as $k^+_R$, $k^+_o$ $k^+_c$ and $\\tilde{k_2}$\n",
    "<br>-calculating $j_{pga,net}$ as a function of $j_{oA}$ and $j_{cA}$"
   ]
  },
  {
   "cell_type": "markdown",
   "metadata": {},
   "source": [
    "<img src=\"SUschema.png\">\n",
    "Fig 1: Schematic to represent the various reactions of photosynthesis through synthesising units. Each synthesizing unit has incoming and outgoing fluxes. $j_{ph}$ is the electron transport flux, which fuels production of ATP and NADPH which are used in the reduction of PGA following both oxygenation and carboxylation. $j_{cA}$ and $j_{oA}$ are the Carbon and Oxygen assimilation fluxes, respectively, and $j_{prod}$ is the outgoing sucrose synthesis flux. $j_R$ is the RuBP regeneration flux, $j_{pgaO}$ is the PGA synthesis flux through Carbon recovery after oxygenation, and $j_{pga,net}$ is the net PGA synthesis flux."
   ]
  },
  {
   "cell_type": "markdown",
   "metadata": {},
   "source": [
    "<img src = \"carbo_oxo.png\">\n",
    "Fig 2: Schematic for simultaneous oxygenation and carboxylation of RuBP according to SU kinetics, whereby forward reactions are much stronger than reverse reactions. "
   ]
  },
  {
   "cell_type": "markdown",
   "metadata": {},
   "source": [
    "Based on the schematic in figure 1, the net rate of photosynthesis, $j_{prod}$ incorporates the electron transport flux $j_{ph}$ and the PGA synthesis flux $j_{pga,net}$ in parallel. Formulated according to Kooijman 1998's Synthesizing Unit kinetics:\n",
    "\\begin{equation}\n",
    "    j_{prod} = (\\frac{1}{k_E} + \\frac{1}{j_{ph}} + \\frac{1}{j_{pga,net}} - \\frac{1}{j_{ph} + j_{pga,net}})^{-1}\n",
    "\\end{equation}\n",
    "where $k_E$ represents the maximum velocity of enzymes in the reduction of PGA.\n",
    "$j_{pga,net} = 2j_{cA} + \\frac{3}{2}j_{oA}$ as for every Carbon consumed, 2 PGA are produced, and for every 2 Oxygen consumed, 3 PGA are produced."
   ]
  },
  {
   "cell_type": "markdown",
   "metadata": {},
   "source": [
    "We can derive $j_{cA}$ as $-d[C]_T/dt$ based on figure 2, which yields \n",
    "$$j_{cA} = -k^+_c[C][E]_T(1 + \\frac{k^+_R[R]}{k^+_o[O] + k^+_c[C]})f_E $$\n",
    "where \n",
    "$$ f_E = \\frac{[E]}{[E]_T} = (1 + (\\frac{1}{k^+_R[R]} + 1)(\\tilde{k^+_o}[O] +  \\tilde{k^+_c}[C]) + k^+_R[R]\\frac{1 + \\tilde{k^+_o}[O] +  \\tilde{k^+_c}[C]}{k^+_o[O] +  k^+_c[C]})^{-1} $$\n",
    "where $\\tilde{k^+_o} = k^+_o/\\tilde{k_{ERO}}$ and $\\tilde{k^+_c} = k^+_c/\\tilde{k_{ERC}}$, whereby $\\tilde{k_{ERC}} = k_{ERC}+k^-_c+k^-_R$ and $\\tilde{k_{ERO}} = k_{ERO}+k^-_o+k^-_R$\n",
    "<br>\n",
    "By symmetry,\n",
    "$$j_{oA} = -k^+_o[O][E]_T(1 + \\frac{k^+_R[R]}{k^+_c[C] + k^+_o[O]})f_E $$"
   ]
  },
  {
   "cell_type": "markdown",
   "metadata": {},
   "source": [
    "We use the electron transport rate derived by Ye et al (Ye 2013):\n",
    "$$ j_{ph} = \\alpha_e \\frac{1-\\beta_eI}{1+\\gamma_eI}I\n",
    "$$\n",
    "where $\\alpha_e$ is the initial slope of the $j_{ph}$-$I$ curve, and $\\beta_e$ and $\\gamma_e$ are the coefficiencts for photoinhibition and light saturation, respectively. $I$ is irradiance."
   ]
  },
  {
   "cell_type": "code",
   "execution_count": 1,
   "metadata": {},
   "outputs": [],
   "source": [
    "#dependencies\n",
    "import numpy as np\n",
    "import matplotlib.pyplot as plt\n",
    "from math import sqrt\n",
    "import ipywidgets as widgets\n",
    "from ipywidgets import interact, interact_manual"
   ]
  },
  {
   "cell_type": "code",
   "execution_count": 36,
   "metadata": {},
   "outputs": [],
   "source": [
    "#Parameter values\n",
    "\n",
    "#from Farquhar 1980\n",
    "#turnover rate for carboxylation\n",
    "kc = 2.5\n",
    "#turnover rate for oxygenation\n",
    "ko = .21*kc\n",
    "#light intensity\n",
    "I = 150\n",
    "#total enzyme concentration\n",
    "Et = 87.2\n",
    "#CO2 concentration\n",
    "C = 230\n",
    "#O2 concentration\n",
    "O = 210\n",
    "\n",
    "#from Ye 2020\n",
    "alpha = .295\n",
    "beta = 2.42*(10**(-3))\n",
    "gamma = 1.26*(10**(-4))\n",
    "\n",
    "#couldnt find turnover # for RuBP so am setting kr, k2 = kc\n",
    "kr = kc\n",
    "kprod = kc\n",
    "kE = kc\n",
    "\n",
    "#also guesses here\n",
    "kERC = .9*kc\n",
    "kERO = .9*ko"
   ]
  },
  {
   "cell_type": "code",
   "execution_count": 3,
   "metadata": {},
   "outputs": [],
   "source": [
    "#model for jprod\n",
    "def jprod(R, C = 230, O =210, kc = kc, ko = ko, I = I, Et = Et, alpha = alpha, beta = beta, gamma = gamma, kr = kr, kE = kE, kERO=kERO, kERC = kERC):\n",
    "    jph = I*alpha*(1-beta*I)/(1+gamma*I)\n",
    "    ksum = ko*O/kERO + kc*C/kERC\n",
    "    fE = (1 + ((1/(kr*R))+1)*ksum + kr*(1+ksum)/(ko*O + kc*C))**(-1)\n",
    "    jcA = kc*C*Et*(1+(kr*R/ksum))*fE\n",
    "    joA = ko*O*Et*(1+(kr*R/ksum))*fE\n",
    "    jpga = (2*jcA+1.5*joA)\n",
    "    jprod = ((1/kE)+(1/jph)+(1/jpga)-(1/(jpga+jph)))**(-1)\n",
    "    return jprod"
   ]
  },
  {
   "cell_type": "code",
   "execution_count": 4,
   "metadata": {
    "scrolled": true
   },
   "outputs": [
    {
     "data": {
      "application/vnd.jupyter.widget-view+json": {
       "model_id": "d83e111bbf4d4f2698cc9173320bd68a",
       "version_major": 2,
       "version_minor": 0
      },
      "text/plain": [
       "interactive(children=(IntSlider(value=230, description='C', max=690, min=-230), IntSlider(value=210, descripti…"
      ]
     },
     "metadata": {},
     "output_type": "display_data"
    }
   ],
   "source": [
    "#plotting jprod against RuBP\n",
    "@interact(Rsteps= (0, 5000, 10))\n",
    "def simulateR(C = 230, O =210, kc = kc, ko = ko, I = I, Et = Et, alpha = alpha, beta = beta, gamma = gamma, kr = 10, kE = kE, kERO=kERO, kERC = kERC, Rsteps=300):\n",
    "    vcr = []\n",
    "    for k in range(1,Rsteps):\n",
    "        vcr.append(jprod(k, C=C, O=O, kc = kc, ko = ko, I = I, Et = Et, alpha = alpha, beta = beta, gamma = gamma, kr = kr, kE = kE, kERO=kERO, kERC = kERC))\n",
    "    plt.plot(range(1,Rsteps), vcr)\n",
    "    plt.xlabel('RuBP')\n",
    "    plt.ylabel('jprod')\n",
    "    plt.show()"
   ]
  },
  {
   "cell_type": "markdown",
   "metadata": {},
   "source": [
    "Plotting jcA by itself"
   ]
  },
  {
   "cell_type": "code",
   "execution_count": 5,
   "metadata": {},
   "outputs": [
    {
     "data": {
      "application/vnd.jupyter.widget-view+json": {
       "model_id": "1e656f58ddba456fa4e511eb1a8940ea",
       "version_major": 2,
       "version_minor": 0
      },
      "text/plain": [
       "interactive(children=(IntSlider(value=100, description='C', max=300, min=-100), IntSlider(value=210, descripti…"
      ]
     },
     "metadata": {},
     "output_type": "display_data"
    }
   ],
   "source": [
    "@interact(Rsteps=(0,10000,10))\n",
    "def simulateC(C = 100, O =210, kc = kc, ko = ko, I = I, Et = Et, alpha = alpha, beta = beta, gamma = gamma, kr = 10, kE = kE, kERO=kERO, kERC = kERC, Rsteps=300):\n",
    "    jcAlist=[]\n",
    "    for R in range(1,Rsteps):\n",
    "        ksum = ko*O/kERO + kc*C/kERO\n",
    "        fE = (1 + ((1/(kr*R))+1)*ksum + kr*(1+ksum)/(ko*O + kc*C))**(-1)\n",
    "        jcA = kc*C*Et*(1+(kr*R/ksum))*fE\n",
    "        jcAlist.append(jcA)\n",
    "    plt.plot(range(1,Rsteps), jcAlist)\n",
    "    plt.xlabel('RuBP')\n",
    "    plt.ylabel('JcA')\n",
    "    plt.show()"
   ]
  },
  {
   "cell_type": "code",
   "execution_count": 6,
   "metadata": {},
   "outputs": [
    {
     "data": {
      "application/vnd.jupyter.widget-view+json": {
       "model_id": "00e8a32010cb4dc3b01f43188e67a664",
       "version_major": 2,
       "version_minor": 0
      },
      "text/plain": [
       "interactive(children=(IntSlider(value=300, description='R', max=900, min=-300), IntSlider(value=230, descripti…"
      ]
     },
     "metadata": {},
     "output_type": "display_data"
    }
   ],
   "source": [
    "#plotting jprod against irradiance\n",
    "@interact(isteps= (0, 5000, 100))\n",
    "def simulateI(R=300, C = 230, O =210, kc = kc, ko = ko, Et = Et, alpha = alpha, beta = beta, gamma = gamma, kr = 10, kE = kE, kERO=kERO, kERC = kERC, isteps=300):\n",
    "    vci = []\n",
    "    for i in range(1,isteps):\n",
    "        vci.append(jprod(R=R, C=C, O=O, kc = kc, ko = ko, I = i, Et = Et, alpha = alpha, beta = beta, gamma = gamma, kr = kr, kE = kE, kERO=kERO, kERC = kERC))\n",
    "    plt.plot(range(1,isteps), vci)\n",
    "    plt.xlabel('Irradiance')\n",
    "    plt.ylabel('jprod')\n",
    "    plt.show()"
   ]
  },
  {
   "cell_type": "markdown",
   "metadata": {},
   "source": [
    "*as I increases jprod saturates and then has very large spikes*"
   ]
  },
  {
   "cell_type": "markdown",
   "metadata": {},
   "source": [
    "<h3> Update 2/10</h3>\n",
    "Since the last update to this notebook, I've added 1) two alternative formulations for j_ph, one where flourescence depends on light and another that frames the light reactions as a circuit, 2) A model for RuBP regeneration, which requires further analysis, and 3) an integrated model for the light reactions that seeks to balance incoming and outgoing fluxes"
   ]
  },
  {
   "cell_type": "markdown",
   "metadata": {},
   "source": [
    "<h3>Alternative models for $j_{ph}$</h3>\n",
    "Ye's model for $j_{ph}$ faces two main issues. The first is that $j_{ph}$ can become negative, and the second is that the occupation probabilities for different reaction pathways do not depend on light. Photoinhibitory regulatory mechanisms have a complex relationship with light. For dark acclimated leaves exposed to light, non-photochemical quenching (NPQ) also known as thermal dissipation, rapidly increases and then decreases to a steady state. NPQ competes with flourescence and photochemical quenching, the pathway that contributes to photosynthesis."
   ]
  },
  {
   "cell_type": "markdown",
   "metadata": {},
   "source": [
    "<h4>Model A: Incorporating light dependant flourescence</h4>\n",
    "We can potentially correct the Ye model by revising the original derivation and multiplying $\\xi_3R_{ki}$ by $I$, leading to:\n",
    "$$\n",
    "j_{ph} = \\alpha_e \\frac{1-\\frac{\\beta_eI}{z_1I+z_2}}{1+\\gamma_eI}I\n",
    "$$"
   ]
  },
  {
   "cell_type": "code",
   "execution_count": 7,
   "metadata": {},
   "outputs": [],
   "source": [
    "zun = .21\n",
    "zdo = .33"
   ]
  },
  {
   "cell_type": "code",
   "execution_count": 8,
   "metadata": {},
   "outputs": [],
   "source": [
    "def jpha(I, zun = zun, zdo = zdo):\n",
    "    frac = beta*I/(zun*I+zdo)\n",
    "    jph = I*alpha*(1-frac)/(1+gamma*I)\n",
    "    return jph"
   ]
  },
  {
   "cell_type": "code",
   "execution_count": 9,
   "metadata": {},
   "outputs": [],
   "source": [
    "#model Aa: multiplying I by both parameters\n",
    "def jphaa(I, zun=zun, zdo=zdo):\n",
    "    frac = beta*I/(zun*I+zdo*I)\n",
    "    jph = I*alpha*(1-frac)/(1+gamma*I)\n",
    "    return jph"
   ]
  },
  {
   "cell_type": "markdown",
   "metadata": {},
   "source": [
    "<h4>Circuit formulation</h4>\n",
    "We can treat both light dependant ($R_I$) and light independant ($R_C$) photoinhibitory mechanisms as resistances to photochemistry, where $R_I = R_{I0}I$. $I$ is analogous to voltage. \n",
    "<img src = \"circuit.png\">\n",
    "Thus, using Ohm's law, ${j_ph} = \\frac{I}{R_{I0}I+R_C}$. At high light intensities, $j_{ph}$ saturates to $\\frac{1}{R_{I0}}$ so we can say $R_{I0} = 1/j_{max}$"
   ]
  },
  {
   "cell_type": "code",
   "execution_count": 10,
   "metadata": {},
   "outputs": [],
   "source": [
    "Imax = 700\n",
    "Rc = .01"
   ]
  },
  {
   "cell_type": "code",
   "execution_count": 11,
   "metadata": {},
   "outputs": [],
   "source": [
    "def jphb(I, Imax=Imax, Rc=Rc):\n",
    "    jph = I/((I/Imax)+Rc)\n",
    "    return jph"
   ]
  },
  {
   "cell_type": "code",
   "execution_count": 12,
   "metadata": {},
   "outputs": [
    {
     "data": {
      "application/vnd.jupyter.widget-view+json": {
       "model_id": "f96b5b57dc4a42b58489adbe55816e13",
       "version_major": 2,
       "version_minor": 0
      },
      "text/plain": [
       "interactive(children=(IntSlider(value=100000, description='irange', max=300000, min=-100000), FloatSlider(valu…"
      ]
     },
     "metadata": {},
     "output_type": "display_data"
    }
   ],
   "source": [
    "@interact()\n",
    "def simulatejph(irange=100000, zun=zun, zdo=zdo, Imax = Imax, Rc=Rc):\n",
    "    jphalist = []\n",
    "    jphaalist = []\n",
    "    jphblist = []\n",
    "    for i in range(1,irange):\n",
    "        jphalist.append(jpha(i, zun, zdo))\n",
    "        jphaalist.append(jphaa(i, zun, zdo))\n",
    "        jphblist.append(jphb(i, Imax, Rc))\n",
    "    plt.plot(range(1,irange), jphalist, label='model A')\n",
    "    plt.plot(range(1, irange), jphalist, label = 'model Aa')\n",
    "    plt.plot(range(1,irange), jphblist, label = 'model B')\n",
    "    plt.xlabel('Irradiance')\n",
    "    plt.ylabel('jph')\n",
    "    plt.legend()\n",
    "    plt.show()\n",
    "    "
   ]
  },
  {
   "cell_type": "markdown",
   "metadata": {},
   "source": [
    "*Not much of a difference between model A and model Aa*"
   ]
  },
  {
   "cell_type": "markdown",
   "metadata": {},
   "source": [
    "<h4>Incorporating RuBP regeneration</h4>\n",
    "Based on figures 1 and 2, we can derive a dynamical system for the consumption and regeneration of $R$:\n",
    "$$\n",
    "\\frac{d[R]}{dt} = -k^+_R[R]([E] + [EC] + [EO]) + \\frac{5}{6}j_{prod} = -[E]_Tf_E(k^+_R[R] + k^+_c[C] + k^+_o[O]) + \\frac{5}{6}j_{prod}\n",
    "$$\n",
    "which reflects that 5/6 of PGA produced by carboxylation is used for RuBP regeneration"
   ]
  },
  {
   "cell_type": "code",
   "execution_count": 13,
   "metadata": {},
   "outputs": [],
   "source": [
    "def dRdt(R, C = 230, O =210, kc = kc, ko = ko, I = I, Et = Et, alpha = alpha, beta = beta, gamma = gamma, kr = kr, kE = kE, kERO=kERO, kERC = kERC):\n",
    "    jph = I*alpha*(1-beta*I)/(1+gamma*I)\n",
    "    ksum = ko*O/kERO + kc*C/kERC\n",
    "    fE = (1 + ((1/(kr*R))+1)*ksum + kr*(1+ksum)/(ko*O + kc*C))**(-1)\n",
    "    jcA = kc*C*Et*(1+(kr*R/ksum))*fE\n",
    "    joA = ko*O*Et*(1+(kr*R/ksum))*fE\n",
    "    jpga = (2*jcA+1.5*joA)\n",
    "    jprod = ((1/kE)+(1/jph)+(1/jpga)-(1/(jpga+jph)))**(-1)\n",
    "    dRdt = -1*Et*fE*(kr*R+kc*C+ko*O) + (5/6)*jprod\n",
    "    return dRdt"
   ]
  },
  {
   "cell_type": "code",
   "execution_count": 22,
   "metadata": {
    "scrolled": true
   },
   "outputs": [
    {
     "data": {
      "application/vnd.jupyter.widget-view+json": {
       "model_id": "263f3e97e93c417fa148350a1f2455b7",
       "version_major": 2,
       "version_minor": 0
      },
      "text/plain": [
       "interactive(children=(FloatSlider(value=0.001, description='dt', max=0.01, step=0.001), IntSlider(value=1000, …"
      ]
     },
     "metadata": {},
     "output_type": "display_data"
    }
   ],
   "source": [
    "@interact(alpha=(0,10,1), dt = (0,.01, .001), tsteps=(0,100000, 10))\n",
    "def simulateR(dt = .001, tsteps = 1000, Ro = 100, C = 230, O =210, kc = kc, ko = ko, I = I, Et = Et, alpha = alpha, beta = beta, gamma = gamma, kr = kr, kE = kE, kERO=kERO, kERC = kERC):\n",
    "    Rlist = np.zeros(tsteps)\n",
    "    Rlist[0] = Ro\n",
    "    jprodlist = np.zeros(tsteps)\n",
    "    jprodlist[0] = jprod(Ro)\n",
    "    for t in range(tsteps-1):\n",
    "        jprodlist[t+1] = jprod(Rlist[t])\n",
    "        Rlist[t+1] = Rlist[t] + dRdt(Rlist[t])*dt\n",
    "    plt.plot(range(tsteps), Rlist, label='RuBp')\n",
    "    plt.plot(range(tsteps), jprodlist, label = 'jprod')\n",
    "    plt.legend()\n",
    "    plt.xlabel('time')\n",
    "    plt.show()\n",
    "    #print(Rlist)"
   ]
  },
  {
   "cell_type": "code",
   "execution_count": 25,
   "metadata": {},
   "outputs": [],
   "source": [
    "#stability analysis for dRdt\n",
    "from sympy import solveset, symbols, S"
   ]
  },
  {
   "cell_type": "code",
   "execution_count": null,
   "metadata": {},
   "outputs": [],
   "source": [
    "R, C, O, kc, ko, I, Et, alpha, beta, gamma, kr, kE, kERO, kERC = symbols(\"R, C, O, kc, ko, I, Et, alpha, beta, gamma, kr, kE, kERO, kERC\")\n",
    "jph = I*alpha*(1-beta*I)/(1+gamma*I)\n",
    "ksum = ko*O/kERO + kc*C/kERC\n",
    "fE = (1 + ((1/(kr*R))+1)*ksum + kr*(1+ksum)/(ko*O + kc*C))**(-1)\n",
    "jcA = kc*C*Et*(1+(kr*R/ksum))*fE\n",
    "joA = ko*O*Et*(1+(kr*R/ksum))*fE\n",
    "jpga = (2*jcA+1.5*joA)\n",
    "jprod = ((1/kE)+(1/jph)+(1/jpga)-(1/(jpga+jph)))**(-1)\n",
    "dRdt = -1*Et*fE*(kr*R+kc*C+ko*O) + (5/6)*jprod\n",
    "print(solveset(dRdt, R))"
   ]
  },
  {
   "cell_type": "markdown",
   "metadata": {},
   "source": [
    "<h4>Next steps for RuBP model</h4>\n",
    "As we can see if we run the above code block, the stability analysis times out, so we will have to look for other ways to analyze the RuBP model.\n",
    "<br>\n",
    "One possible step would be to non-dimensionalize the model, which would reduce the number of parameters.\n",
    "<br>\n",
    "We can also conduct a Bayesian optimization to explore the parameter space, and qualitatively infer the parameter ranges that lead to different behaviors."
   ]
  },
  {
   "cell_type": "markdown",
   "metadata": {},
   "source": [
    "<h3> Modelling light reactions by balancing fluxes </h3>\n",
    "<img src = \"lightreaction.png\">\n",
    "We seek to mechanistically model the light reactions by balancing incoming and outgoing fluxes. Light ($j_I$) is intercepted by flourescence ($j_F$) and thermal dissipation ($j_{NPQ}$), the latter of which is controlled by the pH gradient, which is determined by the difference between the incoming flux from photochemical quenching, $j_{PQ}(t-1)$, and outgoing ATP flux, $j_{ATP}(t-1)$. $j_{ATP}$ depends on the rate of the Calvin Cycle, which in turn depends on $j_{PQ}$. Thus, we can formulate $j_{PQ}$ as a discrete dynamical system, where $j_{PQ}(t) = f(j_{PQ}(t-1))$.\n",
    "Ultimately, it would be interesting if the system is able to imitate the following experimental results:\n",
    "<img src=\"darkacc.png\">"
   ]
  },
  {
   "cell_type": "markdown",
   "metadata": {},
   "source": [
    "As we can see in the schematic, $J_{PQ}$ is the portion of irradiance not used for flourescence and thermal dissipation.\n",
    "$$\n",
    "j_{PQ}(t) = j_I - j_F - j_{NPQ}(t)\n",
    "$$\n",
    "Where we can think of $j_{NPQ}$ as consuming a fraction $f_{NPQ}$ of $j_H$, which represents the build up of protons due to the difference between the incoming $j_{PQ}(t-1)$ and outgoing $j_{ATP}(t-1)$.\n",
    "$$\n",
    "j_{NPQ} = f_{NPQ}(j_{PQ}(t-1) - j_{ATP}(t-1))\n",
    "$$\n",
    "We treat ATP synthase as a synthesizing unit, where light and ADP from the Calvin cycle are consumed to form ATP:\n",
    "$$\n",
    "j_{ATP}(t-1) = (\\frac{1}{j_{syn}} + \\frac{1}{j_{PQ}(t-1)} + \\frac{1}{j_{ADP}(t-1)} - \\frac{1}{j_{PQ}(t-1) + j_{ADP}(t-1)})^{-1}\n",
    "$$\n",
    "Where \n",
    "$$\n",
    "j_{ADP}(t-1) = \\frac{2}{3}j_{prod}(t-1) + \\frac{1}{3}j_{RuBP}(t-1)\n",
    "$$\n",
    "In $j_{prod}$ and $j_{RuBP}$, $j_{ph}$ would be replaced with $j_{PQ}(t-1)$"
   ]
  },
  {
   "cell_type": "code",
   "execution_count": 37,
   "metadata": {},
   "outputs": [],
   "source": [
    "def jprodalt(pq, I, R):\n",
    "    jph = pq\n",
    "    ksum = ko*O/kERO + kc*C/kERC\n",
    "    fE = (1 + ((1/(kr*R))+1)*ksum + kr*(1+ksum)/(ko*O + kc*C))**(-1)\n",
    "    jcA = kc*C*Et*(1+(kr*R/ksum))*fE\n",
    "    joA = ko*O*Et*(1+(kr*R/ksum))*fE\n",
    "    jpga = (2*jcA+1.5*joA)\n",
    "    jprod = ((1/kE)+(1/jph)+(1/jpga)-(1/(jpga+jph)))**(-1)\n",
    "    dRdt = -1*Et*fE*(kr*R+kc*C+ko*O) + (5/6)*jprod\n",
    "    return jprod, dRdt"
   ]
  },
  {
   "cell_type": "code",
   "execution_count": 44,
   "metadata": {},
   "outputs": [],
   "source": [
    "def jpq(pq, I, R, jf=.1*I, fnpq=.2, jsyn=1.5):\n",
    "    jp, jr = jprodalt(pq, I, R)\n",
    "    jadp = 2*jp/3 + jr/3\n",
    "    jatp = (1/jsyn + 1/pq + 1/jadp - 1/(pq + jadp))**(-1)\n",
    "    jnpq = fnpq*(pq - jatp)\n",
    "    jpq = I - jf - jnpq\n",
    "    return jpq, jr, jnpq"
   ]
  },
  {
   "cell_type": "code",
   "execution_count": 45,
   "metadata": {},
   "outputs": [],
   "source": [
    "def logistic(Io, Imax, x, kl):\n",
    "    f = Imax/(1+np.exp(-kl*(x-Io)))\n",
    "    return f"
   ]
  },
  {
   "cell_type": "code",
   "execution_count": 50,
   "metadata": {},
   "outputs": [
    {
     "data": {
      "application/vnd.jupyter.widget-view+json": {
       "model_id": "ad3d8da06fd64072a0aa4720172a59ba",
       "version_major": 2,
       "version_minor": 0
      },
      "text/plain": [
       "interactive(children=(FloatSlider(value=5.0, description='pqo', max=10.0), IntSlider(value=250, description='R…"
      ]
     },
     "metadata": {},
     "output_type": "display_data"
    }
   ],
   "source": [
    "@interact(pqo = (0,10,.1), Ro=(0,500,10), time = (0,1000,1))\n",
    "def integrated(pqo, Ro, Io=100, Imax=500, kl = 1, time=1000, dt = .001, C = 230, O =210, kc = kc, ko = ko, Et = Et, alpha = alpha, beta = beta, gamma = gamma, kr = kr, kE = kE, kERO=kERO, kERC = kERC):\n",
    "    tsteps = np.linspace(0, time, time*10)\n",
    "    jpqlist = np.zeros(len(tsteps))\n",
    "    Rlist = np.zeros(len(tsteps))\n",
    "    npqlist = np.zeros(len(tsteps))\n",
    "    jpqlist[0] = pqo\n",
    "    Rlist[0] = Ro\n",
    "    ilist = [logistic(Io, Imax, t, kl) for t in tsteps]\n",
    "    for t in range(len(tsteps)-1):\n",
    "        jp, jr, npq = jpq(jpqlist[t], ilist[t], Rlist[t])\n",
    "        Rlist[t+1] = Rlist[t] + jr*dt\n",
    "        jpqlist[t+1] = jp\n",
    "        npqlist[t] = npq\n",
    "    plt.plot(tsteps, jpqlist, label='Jpq')\n",
    "    #plt.plot(tsteps, Rlist, label = 'RuBP')\n",
    "    plt.plot(tsteps, ilist, label='Irradiance')\n",
    "    npqlist[-1] = npqlist[-2]\n",
    "    plt.plot(tsteps, npqlist, label='NPQ')\n",
    "    plt.legend()\n",
    "    plt.xlabel('time')\n",
    "    plt.show()\n",
    "        "
   ]
  },
  {
   "cell_type": "code",
   "execution_count": null,
   "metadata": {},
   "outputs": [],
   "source": []
  }
 ],
 "metadata": {
  "kernelspec": {
   "display_name": "Python 3",
   "language": "python",
   "name": "python3"
  }
 },
 "nbformat": 4,
 "nbformat_minor": 4
}
