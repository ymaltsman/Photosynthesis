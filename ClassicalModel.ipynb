{
 "cells": [
  {
   "cell_type": "markdown",
   "metadata": {},
   "source": [
    "Farquhar 1980's model for the instantaneous rate of photosynthesis has been considered the standard model for photosynthesis since then. Here, we will describe and code the model."
   ]
  },
  {
   "cell_type": "markdown",
   "metadata": {},
   "source": [
    "The model assumes that photosynthesis occurs at the rate of its slowest subprocess. Primarily, photosynthesis can be limited by Ribulose Biphosphate (RuBP), a substrate that reacts with CO2 to eventually produce triose phosphates, or Rubisco, the enzyme that catalyzes their reaction, known as carboxylation.\n",
    "The model relates the rate of carboxylation, $v_c$ to the total concentration of RuBP with the following equation:\n",
    "$$v_c = k'_cR_t $$\n",
    "where \n",
    "$$\n",
    "k'_c = \\frac{k_cC}{C+K_c(1+O/K_O)}\n",
    "$$\n",
    "\n"
   ]
  },
  {
   "cell_type": "markdown",
   "metadata": {},
   "source": [
    "The model then incorporates the dependance of the rate of regeneration of RuBP on carboxylation velocity, factoring in electron transport: \n",
    "$$\\frac{R_t}{R_p} = 1 - \\frac{v_c}{1-v_c/j'}\\frac{1}{m'}$$\n",
    "where $R_p$ is the sum of $R_t$ and the concentration of PGA. $j'$ accounts for the rate of electron transport. $j' = \\frac{1-f}{8+8\\phi}I$, where $I$ is irradiance, $f$ is the fraction of light lost to absorption by other pigments, and $\\phi$ is the ratio of carboxylation to oxygenation, formulated as $\\phi = \\frac{k_o(O/K_o)}{k_c(C/K_c)}$"
   ]
  },
  {
   "cell_type": "markdown",
   "metadata": {},
   "source": [
    "Farquhar et al. derive the following model for $v_{c_{R_t<E_t}}$, the RuBP limited rate of carboxylation:\n",
    "$$v_{c_{R_t<E_t}} = \\frac{1}{2} \\{ j' + p + \\frac{j'p}{m'} - [(j' + p + \\frac{j'p}{m})^2 - 4j'p]^{1/2} \\}$$\n",
    " <br>\n",
    "$p = k'_cR_p$, where $R_p$ is the total concentration of free and bound RuBP and 3-phosphoglycerate. $k'_c = \\frac {k_cC}{C+K_c(1+O/K_O)}$ where $k_c$ is the catalytic rate of Rubisco for CO2, $k_o$ is the catalytic rate for O2, $K_c$ and $K_o$ are the Michaelis Menten constants for CO2 and O2, and $C$ and $O$ are the partial pressures of CO2 and O2, respectively. \n",
    "Lastly, $m' = \\frac{m}{2+1.5\\phi}$, where $m$ is the maximal rate of 3-phosphoglycerate reduction, one of the key steps in RuBP regeneration."
   ]
  },
  {
   "cell_type": "markdown",
   "metadata": {},
   "source": [
    "When the concentration of RuBP exceeds that of enzyme binding sites, photosynthesis will be limited by the latter, $E_t$.\n",
    "Thus Farquhar et al. derive the following model for $v_c$:\n",
    "$$v_c = \\min \\{ k'_c E_t, v_{c_{R_t<E_t}} \\}$$"
   ]
  },
  {
   "cell_type": "code",
   "execution_count": 2,
   "metadata": {},
   "outputs": [],
   "source": [
    "#dependencies\n",
    "import numpy as np\n",
    "import matplotlib.pyplot as plt\n",
    "from math import sqrt"
   ]
  },
  {
   "cell_type": "code",
   "execution_count": 3,
   "metadata": {},
   "outputs": [],
   "source": [
    "#Parameter values, based on Farquhar 1980\n",
    "\n",
    "\n",
    "#turnover rate for carboxylation\n",
    "lkc = 2.5\n",
    "#turnover rate for oxygenation\n",
    "lko = .21*lkc\n",
    "#MM constant for O2\n",
    "bko = 330\n",
    "#MM constant for CO2\n",
    "bkc = 460\n",
    "#fraction of light lost to absorbtion by other pigments\n",
    "f = .23\n",
    "#light intensity\n",
    "I = 1000\n",
    "#coupling constant\n",
    "cc = 436\n",
    "#total phosphate concentration = .5*PGA+Rt\n",
    "Rp = 300\n",
    "#total enzyme concentration\n",
    "Et = 87.2"
   ]
  },
  {
   "cell_type": "code",
   "execution_count": 4,
   "metadata": {},
   "outputs": [],
   "source": [
    "#vc vs Rt\n",
    "def vcRt(R, C=230, O=210, kc = 1.7, bkc = bkc, bko = bko):\n",
    "    turn = lkc*C/(C+bkc*(1+O/bko))\n",
    "    if R > Et:\n",
    "        vc = turn*Et\n",
    "    else:\n",
    "        vc = turn*R\n",
    "    return vc\n"
   ]
  },
  {
   "cell_type": "code",
   "execution_count": 5,
   "metadata": {},
   "outputs": [],
   "source": [
    "#Rt vs vc\n",
    "def Rtvc(vc, C=230, O=210, bkc = bkc, bko = bko, f =f, I=I, cc = cc ):\n",
    "    phi = (lko/lkc)*(O/bko)/(C/bkc)\n",
    "    \n",
    "    ve =  .5*(1-f)*I\n",
    "    j = ve/(4+4*phi)\n",
    "\n",
    "    m = cc/(2+1.5*phi)\n",
    "    \n",
    "    Rt = Rp*(1-vc/(m*(1-vc/j)))\n",
    "    \n",
    "    return Rt"
   ]
  },
  {
   "cell_type": "code",
   "execution_count": 6,
   "metadata": {},
   "outputs": [],
   "source": [
    "#Final Model\n",
    "def vcmodel(O = 230, C = 210, Rp = Rp, Et = Et, lkc = lkc, lko = lko, I=I, f=f, cc=cc, bkc = bkc, bko = bko):\n",
    "    \n",
    "    phi = (lko/lkc)*(O/bko)/(C/bkc)\n",
    "    \n",
    "    ve =  .5*(1-f)*I\n",
    "    j = ve/(4+4*phi)\n",
    "\n",
    "    m = cc/(2+1.5*phi)\n",
    "\n",
    "    kc = lkc*C/(C+bkc*(1+O/bko))\n",
    "    p = kc*Rp\n",
    "    vc1 = kc*Et\n",
    "    vc2 = .5*(j+p+(j*p/m)-sqrt((j+p+(j*p/m))**2-4*j*p))\n",
    "    vc = min(vc1, vc2)\n",
    "    vo = phi*vc\n",
    "    \n",
    "    Rt = Rp*(1-vc/(m*(1-vc/j)))\n",
    "    return vc"
   ]
  },
  {
   "cell_type": "code",
   "execution_count": 7,
   "metadata": {},
   "outputs": [
    {
     "data": {
      "image/png": "[encoded data removed]",
      "text/plain": [
       "<Figure size 432x288 with 1 Axes>"
      ]
     },
     "metadata": {
      "needs_background": "light"
     },
     "output_type": "display_data"
    }
   ],
   "source": [
    "#plotting v vs Rt\n",
    "vcr = []\n",
    "for i in range(300):\n",
    "    vcr.append(vcRt(i))\n",
    "plt.plot(range(300), vcr)\n",
    "Rt = []\n",
    "for v in vcr:\n",
    "    Rt.append(Rtvc(v))\n",
    "plt.plot(Rt, vcr)\n",
    "plt.xlabel('RuBP')\n",
    "plt.ylabel('vc')\n",
    "plt.show()"
   ]
  },
  {
   "cell_type": "code",
   "execution_count": 8,
   "metadata": {},
   "outputs": [],
   "source": [
    "#net assimilation rate\n",
    "def Assim(vc, rho = .45, Rd = 1.1, C = 230, O = 210, lkc = lkc, lko = lko, bkc = bkc, bko = bko):\n",
    "    phi = (lko/lkc)*(O/bko)/(C/bkc)\n",
    "    A = rho*(1-.5*phi)*vc - Rd\n",
    "    return A"
   ]
  },
  {
   "cell_type": "code",
   "execution_count": 10,
   "metadata": {},
   "outputs": [
    {
     "data": {
      "image/png": "[encoded data removed]",
      "text/plain": [
       "<Figure size 432x288 with 1 Axes>"
      ]
     },
     "metadata": {
      "needs_background": "light"
     },
     "output_type": "display_data"
    }
   ],
   "source": [
    "#plotting vc vs irradiance at three different enzyme concentrations\n",
    "sixg = []\n",
    "threeg = []\n",
    "oneg = []\n",
    "for i in range(1,500):\n",
    "    sixg.append(Assim(vcmodel(I=i)))\n",
    "    threeg.append(Assim(vcmodel(Et = Et/2,I=i)))\n",
    "    oneg.append(Assim(vcmodel(Et = Et/6, I=i)))\n",
    "plt.plot(range(499), sixg, label = 'Et = 87.2')\n",
    "plt.plot(range(499), threeg, label = 'Et = .5*87.2')\n",
    "plt.plot(range(499), oneg, label = 'Et = (1/6)*87.2')\n",
    "plt.xlabel('Irradiance')\n",
    "plt.ylabel('vc')\n",
    "plt.legend()\n",
    "plt.show()\n"
   ]
  },
  {
   "cell_type": "code",
   "execution_count": null,
   "metadata": {},
   "outputs": [],
   "source": []
  }
 ],
 "metadata": {
  "kernelspec": {
   "display_name": "Python 3",
   "language": "python",
   "name": "python3"
  },
  "language_info": {
   "codemirror_mode": {
    "name": "ipython",
    "version": 3
   },
   "file_extension": ".py",
   "mimetype": "text/x-python",
   "name": "python",
   "nbconvert_exporter": "python",
   "pygments_lexer": "ipython3",
   "version": "3.7.3"
  }
 },
 "nbformat": 4,
 "nbformat_minor": 4
}
