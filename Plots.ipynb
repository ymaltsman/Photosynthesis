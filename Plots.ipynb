{
 "cells": [
  {
   "cell_type": "code",
   "execution_count": 1,
   "metadata": {},
   "outputs": [],
   "source": [
    "#dependencies\n",
    "import numpy as np\n",
    "import matplotlib.pyplot as plt\n",
    "from math import sqrt\n",
    "import ipywidgets as widgets\n",
    "from ipywidgets import interact, interact_manual\n",
    "#from bayes_opt import BayesianOptimization"
   ]
  },
  {
   "cell_type": "code",
   "execution_count": 2,
   "metadata": {},
   "outputs": [],
   "source": [
    "#Parameter values\n",
    "\n",
    "#from Farquhar 1980\n",
    "#turnover rate for carboxylation\n",
    "kc = 2.5\n",
    "#turnover rate for oxygenation\n",
    "ko = .21*kc\n",
    "#light intensity\n",
    "I = 150\n",
    "#total enzyme concentration\n",
    "Et = 87.2\n",
    "#CO2 concentration\n",
    "C = 230\n",
    "#O2 concentration\n",
    "O = 210\n",
    "\n",
    "#from Ye 2020\n",
    "alpha = .295\n",
    "beta = 2.42*(10**(-3))\n",
    "gamma = 1.26*(10**(-4))\n",
    "\n",
    "#couldnt find turnover # for RuBP so am setting kr, etc. = kc\n",
    "kr = kc\n",
    "kprod = kc\n",
    "kE = kc\n",
    "\n",
    "#also guesses here\n",
    "kERC = .9*kc\n",
    "kERO = .9*ko\n",
    "\n",
    "kappac = 2/3\n",
    "kappar = 1/3"
   ]
  },
  {
   "cell_type": "code",
   "execution_count": 3,
   "metadata": {},
   "outputs": [],
   "source": [
    "#model for PGA reduction vs RuBP *with Ye model for light\n",
    "def jprod(R, C = 230, O =210, kc = kc, ko = ko, kappac = kappac, I = I, Et = Et, alpha = alpha, beta = beta, gamma = gamma, kr = kr, kE = kE, kERO=kERO, kERC = kERC):\n",
    "    jph = I*alpha*(1-beta*I)/(1+gamma*I)\n",
    "    ksum = ko*O/kERO + kc*C/kERC\n",
    "    fE = (1 + ((1/(kr*R))+1)*ksum + kr*R*(1+ksum)/(ko*O + kc*C))**(-1)\n",
    "    jcA = kc*C*Et*(1+(kr*R/ksum))*fE\n",
    "    joA = ko*O*Et*(1+(kr*R/ksum))*fE\n",
    "    jpga = (2*jcA+1.5*joA)\n",
    "    jprod = ((1/kE)+(1/kappac*jph)+(1/jpga)-(1/(jpga+jph)))**(-1)\n",
    "    return jprod"
   ]
  },
  {
   "cell_type": "code",
   "execution_count": 4,
   "metadata": {},
   "outputs": [
    {
     "data": {
      "application/vnd.jupyter.widget-view+json": {
       "model_id": "c7cc03fca0114ca8b0df281a2437ca24",
       "version_major": 2,
       "version_minor": 0
      },
      "text/plain": [
       "interactive(children=(IntSlider(value=230, description='C', max=690, min=-230), IntSlider(value=210, descripti…"
      ]
     },
     "metadata": {},
     "output_type": "display_data"
    }
   ],
   "source": [
    "#plotting jprod against RuBP\n",
    "@interact(Rsteps= (0, 5000, 10), Et = (0, 1000, 10), kr  = (.1, 10, .1))\n",
    "def simulateR(C = 230, O =210, kc = kc, ko = ko, kappac=kappac, I = I, Et = Et, alpha = alpha, beta = beta, gamma = gamma, kr = 10, kE = kE, kERO=kERO, kERC = kERC, Rsteps=300):\n",
    "    vcr = []\n",
    "    for k in range(1,Rsteps):\n",
    "        vcr.append(jprod(k, C=C, O=O, kc = kc, ko = ko, kappac=kappac, I = I, Et = Et, alpha = alpha, beta = beta, gamma = gamma, kr = kr, kE = kE, kERO=kERO, kERC = kERC))\n",
    "    ksum = ko*O/kERO + kc*C/kERC\n",
    "    \n",
    "    plt.plot(range(1,Rsteps), vcr)\n",
    "    plt.xlabel('RuBP')\n",
    "    plt.ylabel('jprod')\n",
    "    plt.show()"
   ]
  },
  {
   "cell_type": "code",
   "execution_count": 5,
   "metadata": {},
   "outputs": [
    {
     "data": {
      "application/vnd.jupyter.widget-view+json": {
       "model_id": "7350250e6f474a94a5a9bc500ec202e1",
       "version_major": 2,
       "version_minor": 0
      },
      "text/plain": [
       "interactive(children=(IntSlider(value=100, description='R', max=300, min=-100), IntSlider(value=230, descripti…"
      ]
     },
     "metadata": {},
     "output_type": "display_data"
    }
   ],
   "source": [
    "#plotting jprod against irradiance, still with Ye model\n",
    "@interact(Isteps= (0, 5000, 10), Et = (0, 1000, 10), kr  = (.1, 10, .1))\n",
    "def simulateI(R= 100, C = 230, O =210, kc = kc, ko = ko, kappac=kappac, Et = Et, alpha = alpha, beta = beta, gamma = gamma, kr = 10, kE = kE, kERO=kERO, kERC = kERC, Isteps=1000):\n",
    "    vcI = []\n",
    "    for i in range(1,Isteps):\n",
    "        vcI.append(jprod(R=R, C=C, O=O, kc = kc, ko = ko, kappac=kappac, I = i, Et = Et, alpha = alpha, beta = beta, gamma = gamma, kr = kr, kE = kE, kERO=kERO, kERC = kERC))\n",
    "    \n",
    "    plt.plot(range(1,Isteps), vcI)\n",
    "    plt.xlabel('Irradiance')\n",
    "    plt.ylabel('jprod')\n",
    "    plt.show()"
   ]
  },
  {
   "cell_type": "code",
   "execution_count": 6,
   "metadata": {},
   "outputs": [],
   "source": [
    "#various models for irradiance\n",
    "#parameters\n",
    "zun = .21\n",
    "zdo = .33"
   ]
  },
  {
   "cell_type": "code",
   "execution_count": 7,
   "metadata": {},
   "outputs": [],
   "source": [
    "#Ye model\n",
    "def Ye(I, alpha = alpha, beta = beta, gamma = gamma):\n",
    "    jph = alpha*(1-beta*I)*I/(1+gamma*I)\n",
    "    return jph"
   ]
  },
  {
   "cell_type": "code",
   "execution_count": 8,
   "metadata": {},
   "outputs": [],
   "source": [
    "#Ye model with irradiance dependance\n",
    "def altYe(I, alpha = alpha, beta = beta, zun = zun, zdo = zdo, gamma = gamma):\n",
    "    frac = beta*I/(zun*I+zdo)\n",
    "    jph = I*alpha*(1-frac)/(1+gamma*I)\n",
    "    return jph"
   ]
  },
  {
   "cell_type": "code",
   "execution_count": 9,
   "metadata": {},
   "outputs": [],
   "source": [
    "#circuit formulation\n",
    "Imax = 700\n",
    "Rc = .01\n",
    "def circuit(I, Imax=Imax, Rc=Rc):\n",
    "    jph = I/((I/Imax)+Rc)\n",
    "    return jph"
   ]
  },
  {
   "cell_type": "code",
   "execution_count": 10,
   "metadata": {},
   "outputs": [
    {
     "data": {
      "application/vnd.jupyter.widget-view+json": {
       "model_id": "96b9f8bd4b45475bb14162fcbbeb54b4",
       "version_major": 2,
       "version_minor": 0
      },
      "text/plain": [
       "interactive(children=(IntSlider(value=5000, description='irange', max=15000, min=-5000), FloatSlider(value=0.2…"
      ]
     },
     "metadata": {},
     "output_type": "display_data"
    }
   ],
   "source": [
    "#Various models as functions of irradiance\n",
    "@interact()\n",
    "def simulatejph(irange=5000, zun=zun, zdo=zdo, Imax = Imax, Rc=Rc, alpha = alpha, beta = beta, gamma = gamma):\n",
    "    jphylist = []\n",
    "    jphalist = []\n",
    "    jphblist = []\n",
    "    for i in range(1,irange):\n",
    "        jphylist.append(Ye(i, alpha = alpha, beta = beta, gamma = gamma))\n",
    "        jphalist.append(altYe(i, alpha = alpha, beta = beta, zun = zun, zdo = zdo, gamma = gamma))\n",
    "        jphblist.append(circuit(i, Imax, Rc))\n",
    "    plt.plot(range(1,irange), jphylist, label='Ye model')\n",
    "    plt.plot(range(1, irange), jphalist, label = 'model A')\n",
    "    plt.plot(range(1,irange), jphblist, label = 'model B')\n",
    "    plt.xlabel('Irradiance')\n",
    "    plt.ylabel('jph')\n",
    "    plt.legend()\n",
    "    plt.show()"
   ]
  },
  {
   "cell_type": "code",
   "execution_count": 11,
   "metadata": {},
   "outputs": [],
   "source": [
    "#RuBP regeneration\n",
    "alphaa = 1\n",
    "alphab = 1\n",
    "def dRdtalt(R, C = 230, O =210, kc = kc, ko = ko, kappac = kappac, kappar = kappar, alphaa = alphaa, alphab = alphab, I = I, Et = Et, alpha = alpha, beta = beta, gamma = gamma, kr = kr, kE = kE, kERO=kERO, kERC = kERC):\n",
    "    jph = I*alpha*(1-beta*I)/(1+gamma*I)\n",
    "    ksum = ko*O/kERO + kc*C/kERC\n",
    "    fE = (1 + ((1/(kr*R))+1)*ksum + kr*R*(1+ksum)/(ko*O + kc*C))**(-1)\n",
    "    jcA = kc*C*Et*(1+(kr*R/ksum))*fE\n",
    "    joA = ko*O*Et*(1+(kr*R/ksum))*fE\n",
    "    jpga = (2*jcA+1.5*joA)\n",
    "    kEa = alphaa*kc\n",
    "    kEb = alphab*kc\n",
    "    jpc = kappac*jph\n",
    "    jpr = kappar*jph\n",
    "    jprod = (5/6)*((1/kEa)+(1/(kappac*jpc))+(1/jpga)-(1/(jpga+jpc)))**(-1)\n",
    "    jrubp = (1/kEb + 1/(kappar*jpr) + 1/jprod - 1/(jpr+jprod))**(-1)\n",
    "    dRdt = -1*Et*fE*(kr*R+kc*C+ko*O) + jrubp\n",
    "    return dRdt"
   ]
  },
  {
   "cell_type": "code",
   "execution_count": 12,
   "metadata": {
    "scrolled": true
   },
   "outputs": [
    {
     "data": {
      "application/vnd.jupyter.widget-view+json": {
       "model_id": "993831b26eee467c9e11d648c3b01653",
       "version_major": 2,
       "version_minor": 0
      },
      "text/plain": [
       "interactive(children=(FloatSlider(value=0.0014, description='Ro', max=0.0042, min=-0.0014), IntSlider(value=50…"
      ]
     },
     "metadata": {},
     "output_type": "display_data"
    }
   ],
   "source": [
    "@interact(alpha = (0,100,.1))\n",
    "#note that R does not scale to realistic values, likely due to wrong parameterization\n",
    "def simulatealtR(Ro = .0014, tsteps = 500, dt = .001, kappac = kappac, kappar = kappar, C = 230, O =210, kc = kc, ko = ko, alphaa = alphaa, alphab=alphab, I = I, Et = Et, alpha = alpha, beta = beta, gamma = gamma, kr = kr, kE = kE, kERO=kERO, kERC = kERC):\n",
    "    R = np.zeros(tsteps)\n",
    "    R[0] = Ro\n",
    "    for t in range(tsteps-1):\n",
    "        R[t+1] = R[t] + dRdtalt(R[t], C=C, alpha = alpha, alphaa = alphaa, alphab = alphab)*dt\n",
    "    plt.plot(range(tsteps),R, label = 'RuBP')\n",
    "    plt.legend()\n",
    "    plt.xlabel('time')\n",
    "    plt.show()"
   ]
  },
  {
   "cell_type": "code",
   "execution_count": 13,
   "metadata": {},
   "outputs": [],
   "source": [
    "#params\n",
    "kappaa = 4\n",
    "m = .2\n",
    "#these params are made up. Might need high m for NPQ to make a difference\n",
    "kf = .2\n",
    "knpq = .1\n",
    "kpq = .7"
   ]
  },
  {
   "cell_type": "code",
   "execution_count": 14,
   "metadata": {},
   "outputs": [],
   "source": [
    "\n",
    "#Alternative light model: dynamical system with balancing fluxes\n",
    "def jprodalt(pq, I, R):\n",
    "    jph = pq\n",
    "    ksum = ko*O/kERO + kc*C/kERC\n",
    "    fE = (1 + ((1/(kr*R))+1)*ksum + kr*R*(1+ksum)/(ko*O + kc*C))**(-1)\n",
    "    jcA = kc*C*Et*(1+(kr*R/ksum))*fE\n",
    "    joA = ko*O*Et*(1+(kr*R/ksum))*fE\n",
    "    jpga = (2*jcA+1.5*joA)\n",
    "    kEa = alphaa*kc\n",
    "    kEb = alphab*kc\n",
    "    jpc = kappac*jph\n",
    "    jpr = kappar*jph\n",
    "    jprod = ((1/kEa)+(1/(kappac*jpc))+(1/jpga)-(1/(jpga+kappac*jpc)))**(-1)\n",
    "    jprodr = (5/6)*jprod\n",
    "    jrubp = (1/kEb + 1/(kappar*jpr) + 1/jprodr - 1/(kappar*jpr+jprodr))**(-1)\n",
    "    dRdt = -1*Et*fE*(kr*R+kc*C+ko*O) + jrubp\n",
    "    return jprod, dRdt, jpga"
   ]
  },
  {
   "cell_type": "code",
   "execution_count": 15,
   "metadata": {},
   "outputs": [],
   "source": [
    "def jpq(pq, I, R, jf=.1*I, m=.2, jsyn=1.5):\n",
    "    jp, jr, jpga = jprodalt(pq, I, R)\n",
    "    jadp = jp + jr\n",
    "    jatp = (1/jsyn + 1/(kappaa*pq) + 1/jadp - 1/(kappaa*pq + jadp))**(-1)\n",
    "    jnpq = m*(pq - jatp)\n",
    "    jpq = I*kpq/(kpq+kf+knpq*jnpq)\n",
    "    return jp, jpq, jr, jnpq, jpga, jatp, jadp"
   ]
  },
  {
   "cell_type": "code",
   "execution_count": 16,
   "metadata": {},
   "outputs": [],
   "source": [
    "#light input\n",
    "def logistic(Io, Imax, x, kl):\n",
    "    f = Imax/(1+np.exp(-kl*(x-Io)))\n",
    "    return f"
   ]
  },
  {
   "cell_type": "code",
   "execution_count": 25,
   "metadata": {},
   "outputs": [
    {
     "data": {
      "application/vnd.jupyter.widget-view+json": {
       "model_id": "c1bb4b27c25d4e10947d5833eac1df23",
       "version_major": 2,
       "version_minor": 0
      },
      "text/plain": [
       "interactive(children=(FloatSlider(value=50.0, description='pqo'), FloatSlider(value=0.0015, description='Ro', …"
      ]
     },
     "metadata": {},
     "output_type": "display_data"
    }
   ],
   "source": [
    "@interact(pqo = (0,100,.1), Ro=(0.001,.002,.0001), time = (0,10,1))\n",
    "def integrated(pqo, Ro, m=m, ik = 5000, Io=100, Imax=500, kl = 1, time=1000, dt = .001, C = 230, O =210, kc = kc, ko = ko, Et = Et, alpha = alpha, beta = beta, gamma = gamma, kr = kr, kE = kE, kERO=kERO, kERC = kERC):\n",
    "    tsteps = np.linspace(0, time, time*10)\n",
    "    jplist = np.zeros(len(tsteps))\n",
    "    jpqlist = np.zeros(len(tsteps))\n",
    "    Rlist = np.zeros(len(tsteps))\n",
    "    npqlist = np.zeros(len(tsteps))\n",
    "    jpgalist = np.zeros(len(tsteps))\n",
    "    atplist = np.zeros(len(tsteps))\n",
    "    adplist = np.zeros(len(tsteps))\n",
    "    jpqlist[0] = pqo\n",
    "    Rlist[0] = Ro\n",
    "    jplist[0] = jprodalt(pqo, ik, Ro)[0]\n",
    "    jpgalist[0] = jprodalt(pqo, ik, Ro)[2]\n",
    "    ilist = [ik for t in tsteps]\n",
    "    for t in range(len(tsteps)-1):\n",
    "        jp, jpqu, jr, jnpq, jpga, jatp, jadp = jpq(jpqlist[t], ilist[t], Rlist[t], m=m)\n",
    "        Rlist[t+1] = Rlist[t] + jr*dt\n",
    "        jplist[t+1] = jp\n",
    "        jpqlist[t+1] = jpqu\n",
    "        atplist[t+1] = jatp\n",
    "        adplist[t+1] = jadp\n",
    "        npqlist[t] = jnpq\n",
    "        jpgalist[t] = jpga\n",
    "    atplist[0] = atplist[1]\n",
    "    adplist[0] = adplist[1]\n",
    "    fig, axs = plt.subplots(3)\n",
    "    fig.set_figheight(5)\n",
    "    fig.set_figwidth(10)\n",
    "    axs[0].plot(tsteps, jpqlist, label='Jpq')\n",
    "    axs[1].plot(tsteps, Rlist, label = 'RuBP', color='grey')\n",
    "    axs[0].plot(tsteps, ilist, label='Irradiance')\n",
    "    axs[1].plot(tsteps, jplist, label = 'jprod', color='red')\n",
    "    jpgalist[-1] = jpgalist[-2]\n",
    "    axs[1].plot(tsteps, jpgalist, label = 'jpga')\n",
    "    npqlist[-1] = npqlist[-2]\n",
    "    axs[0].plot(tsteps, npqlist, label='NPQ')\n",
    "    axs[2].plot(tsteps, atplist, label='jATP', color='brown')\n",
    "    axs[2].plot(tsteps, adplist, label='jADP', color='pink')\n",
    "    axs[2].legend()\n",
    "    axs[0].legend(loc='upper right')\n",
    "    axs[1].legend(loc='upper right')  \n",
    "    axs[0].set(xlabel='time')\n",
    "    axs[1].set(xlabel='time')\n",
    "    axs[2].set(xlabel='time')"
   ]
  },
  {
   "cell_type": "code",
   "execution_count": 91,
   "metadata": {},
   "outputs": [],
   "source": [
    "def jATP(atp, pq, R, jsyn = 1.5, kappaa = kappaa, kp = 100, kpr = 2, C=C, O=O, Et=Et):\n",
    "    ksum = ko*O/kERO + kc*C/kERC\n",
    "    fE = (1 + ((1/(kr*R))+1)*ksum + kr*R*(1+ksum)/(ko*O + kc*C))**(-1)\n",
    "    jcA = kc*C*Et*(1+(kr*R/ksum))*fE\n",
    "    joA = ko*O*Et*(1+(kr*R/ksum))*fE\n",
    "    jpga = (2*jcA+1.5*joA)\n",
    "    atpc = 2*atp/3\n",
    "    atpr = atp/3\n",
    "    jprod = (1/kp + 1/atpc + 1/jpga - 1/(jpga+atpc))**(-1)\n",
    "    jprodr = (5/6)*jprod\n",
    "    jrubp = (1/kpr + 1/(atpr) + 1/jprodr - 1/(jprodr+atpr))**(-1)\n",
    "    dRdt = -1*Et*fE*(kr*R+kc*C+ko*O) + jrubp\n",
    "    jadp = 2*(1/jprod + 1/jrubp - 1/(jrubp+jprod))**(-1)\n",
    "    atpf = (1/jsyn + 1/(kappaa*pq) + 1/jadp - 1/(kappaa*pq + jadp))**(-1)\n",
    "    return atpf, jadp, dRdt, jprod, jpga"
   ]
  },
  {
   "cell_type": "code",
   "execution_count": 92,
   "metadata": {},
   "outputs": [],
   "source": [
    "def jpqalt(I, pq, atp, kf=kf, kpq=kpq, m=m, knpq=knpq):\n",
    "    f = m*(pq-atp)\n",
    "    jpq = I*(kpq/(kpq+kf+knpq*f))\n",
    "    return jpq, f"
   ]
  },
  {
   "cell_type": "code",
   "execution_count": 93,
   "metadata": {
    "scrolled": false
   },
   "outputs": [
    {
     "data": {
      "application/vnd.jupyter.widget-view+json": {
       "model_id": "d9a4fc420cd749feb199702a555b09ed",
       "version_major": 2,
       "version_minor": 0
      },
      "text/plain": [
       "interactive(children=(IntSlider(value=1, description='pqo', max=3, min=-1), IntSlider(value=1, description='Ro…"
      ]
     },
     "metadata": {},
     "output_type": "display_data"
    }
   ],
   "source": [
    "@interact()\n",
    "def intsim(pqo = 1, Ro=1, atpo=100, ik=1, dt = .001, time=2, jsyn = 1000, kappaa = kappaa, kp = 2000, kpr = 2, kf=0, kpq=kpq, m=0, knpq=knpq, C=C, O=O, Et=Et):\n",
    "    tsteps = np.linspace(0, time, time*100)\n",
    "    xtsteps = tsteps[1:len(tsteps)]\n",
    "    jplist = np.zeros(len(xtsteps))\n",
    "    jpqlist = np.zeros(len(tsteps))\n",
    "    Rlist = np.zeros(len(tsteps))\n",
    "    npqlist = np.zeros(len(xtsteps))\n",
    "    atplist = np.zeros(len(tsteps))\n",
    "    adplist = np.zeros(len(xtsteps))\n",
    "    jpqlist[0] = pqo\n",
    "    Rlist[0] = Ro\n",
    "    atplist[0] = atpo\n",
    "    pgalist = np.zeros(len(xtsteps))\n",
    "    ilist = [ik for t in tsteps]\n",
    "    for t in range(len(tsteps)-1):\n",
    "        atpf, jadp, dRdt, jprod, jpga = jATP(atplist[t], jpqlist[t], Rlist[t], jsyn = jsyn, kappaa = kappaa, kp = kp, kpr = kpr, C=C, O=O, Et=Et)\n",
    "        atplist[t+1] = atpf\n",
    "        adplist[t] = jadp\n",
    "        Rlist[t+1] = Rlist[t] + dRdt*dt\n",
    "        jplist[t] = jprod\n",
    "        pgalist[t] = jpga\n",
    "        p, f = jpqalt(ilist[t], jpqlist[t], atplist[t+1], kf=kf, kpq=kpq, m=m, knpq=knpq)\n",
    "        jpqlist[t+1] = p\n",
    "        npqlist[t] = f\n",
    "    plt.rcParams[\"figure.figsize\"] = (20,3)\n",
    "    #plt.plot(tsteps, jpqlist, label='Jpq')\n",
    "    #plt.plot(tsteps, Rlist,  'r--', label = 'RuBP')\n",
    "    #plt.plot(tsteps, ilist, label='Irradiance')\n",
    "    #plt.scatter(xtsteps, jplist, label = 'jprod', color='red')\n",
    "    #plt.plot(xtsteps, npqlist, label='NPQ')\n",
    "    plt.plot(tsteps, atplist, label='jATP', color='brown')\n",
    "    #plt.scatter(xtsteps, adplist, label='jADP', color='pink')\n",
    "    plt.plot(xtsteps, pgalist, label = 'jpga', color='purple')\n",
    "    plt.legend()\n",
    "    plt.show()\n",
    "    pga = pgalist[0]\n",
    "    print(\"pga \",pga)\n",
    "    atpc = 2*atplist[0]/3\n",
    "    print(\"2/3 atp\", atpc)\n",
    "    plus = (1/kp + 1/atpc + 1/pga)\n",
    "    print(\"atp + pga\", plus)\n",
    "    minus = (1/(atpc+pga))\n",
    "    print(\"sub\", minus)"
   ]
  },
  {
   "cell_type": "code",
   "execution_count": 144,
   "metadata": {},
   "outputs": [],
   "source": [
    "#alternative model with continuous development of ATP\n",
    "kAC = 2\n",
    "kAR = kAC/3\n",
    "kI = 2\n",
    "EprT = 80\n",
    "ErgT = 80\n",
    "kATP = 2\n",
    "jsyn = 1.5\n",
    "kpg = 2\n",
    "Esyn = 80\n",
    "\n",
    "def dR(dRu, dADPr):\n",
    "    dR = -dRu + dADPr\n",
    "    return dR\n",
    "def dPGA(R, dADPc):\n",
    "    ksum = ko*O/kERO + kc*C/kERC\n",
    "    fE = (1 + ((1/(kr*R))+1)*ksum + kr*R*(1+ksum)/(ko*O + kc*C))**(-1)\n",
    "    jcA = kc*C*Et*(1+(kr*R/ksum))*fE\n",
    "    joA = ko*O*Et*(1+(kr*R/ksum))*fE\n",
    "    dPGA = (2*jcA+1.5*joA) - dADPc\n",
    "    dRu = jcA + joA \n",
    "    return dPGA, dRu\n",
    "def dADP(ATP, PGA, Int):\n",
    "    rfrac = (1/kr + 1/(kAR*ATP) + 1/(kI*Int) - 1/(kAR*ATP + kI*Int))\n",
    "    dADPr = ErgT*(1/rfrac)\n",
    "    cfrac = (1/kI + 1/(kAC*ATP) + 1/(kpg*PGA)- 1/(kpg*PGA+kAC*ATP))\n",
    "    dADPc = EprT*(1/cfrac)\n",
    "    dInt = dADPc - dADPr\n",
    "    dADP = dADPc + dADPr\n",
    "    return dADP, dInt, dADPr, dADPc\n",
    "def dATP(ADP, dADP, jpq):\n",
    "    fATP = kATP*ADP\n",
    "    dATP = Esyn/(1/jsyn + 1/fATP + 1/jpq - 1/(jpq+fATP)) - dADP\n",
    "    return dATP\n",
    "def PQ(pqt, jatp):\n",
    "    f = m*(pqt-jatp)\n",
    "    jpq = I*(kpq/(kpq+kf+knpq*f))\n",
    "    return jpq, f"
   ]
  },
  {
   "cell_type": "code",
   "execution_count": 163,
   "metadata": {},
   "outputs": [
    {
     "data": {
      "application/vnd.jupyter.widget-view+json": {
       "model_id": "5d3d92bc93044220af14fb6f1a088adf",
       "version_major": 2,
       "version_minor": 0
      },
      "text/plain": [
       "interactive(children=(IntSlider(value=20, description='time', max=60, min=-20), FloatSlider(value=0.001, descr…"
      ]
     },
     "metadata": {},
     "output_type": "display_data"
    }
   ],
   "source": [
    "@interact()\n",
    "def simATP(time = 20, dt = .001, ATPo = 1, Ro = .1, ADPo = 50, PGAo = 6, Into = 100, pqo = 40):\n",
    "    tsteps = np.linspace(0, time, time/dt)\n",
    "    ATP = np.zeros(len(tsteps))\n",
    "    ATP[0] = ATPo\n",
    "    ADP = np.zeros(len(tsteps))\n",
    "    ADP[0] = ADPo\n",
    "    PGA = np.zeros(len(tsteps))\n",
    "    PGA[0] = PGAo\n",
    "    Int = np.zeros(len(tsteps))\n",
    "    Int[0] = Into\n",
    "    R = np.zeros(len(tsteps))\n",
    "    R[0] = Ro\n",
    "    jpq = np.zeros(len(tsteps))\n",
    "    jpq[0] = pqo\n",
    "    NPQ = np.zeros(len(tsteps))\n",
    "    for t in range(len(tsteps)-1):\n",
    "        dDP, dInt, dADPr, dADPc = dADP(ATP[t], PGA[t], Int[t])\n",
    "        dTP = dATP(ADP[t], dDP, jpq[t])\n",
    "        ATP[t+1] = ATP[t] + dTP*dt\n",
    "        ADP[t+1] = ADP[t] + (dDP-dTP)*dt\n",
    "        Int[t+1] = Int[t] + dInt*dt\n",
    "        dP, dRu = dPGA(R[t], dADPc)\n",
    "        PGA[t+1] = PGA[t] + dP*dt\n",
    "        dRub = dR(dRu, dADPr)\n",
    "        R[t+1] = R[t] + dRub*dt\n",
    "        tpq, f = PQ(jpq[t], dTP)\n",
    "        jpq[t+1] = tpq\n",
    "        NPQ[t+1] = f\n",
    "    fig, axs = plt.subplots(4)\n",
    "    fig.set_size_inches(18.5, 10.5)\n",
    "    axs[0].plot(tsteps, ATP, label = 'ATP')\n",
    "    axs[1].plot(tsteps[0:100], jpq[0:100], label = 'jpq')\n",
    "    axs[1].plot(tsteps[0:100], NPQ[0:100], label = 'NPQ')\n",
    "    axs[2].plot(tsteps, PGA, label = 'PGA')\n",
    "    axs[3].plot(tsteps, R, label='RuBP')\n",
    "    print(R[-1])\n",
    "    for ax in axs:\n",
    "        ax.legend()\n",
    "    plt.xlabel('time')\n",
    "    plt.show()"
   ]
  },
  {
   "cell_type": "code",
   "execution_count": null,
   "metadata": {},
   "outputs": [],
   "source": []
  }
 ],
 "metadata": {
  "kernelspec": {
   "display_name": "Python 3",
   "language": "python",
   "name": "python3"
  },
  "language_info": {
   "codemirror_mode": {
    "name": "ipython",
    "version": 3
   },
   "file_extension": ".py",
   "mimetype": "text/x-python",
   "name": "python",
   "nbconvert_exporter": "python",
   "pygments_lexer": "ipython3",
   "version": "3.6.5"
  }
 },
 "nbformat": 4,
 "nbformat_minor": 4
}
