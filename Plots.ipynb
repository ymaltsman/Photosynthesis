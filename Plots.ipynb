{
 "cells": [
  {
   "cell_type": "code",
   "execution_count": 1,
   "metadata": {},
   "outputs": [],
   "source": [
    "#dependencies\n",
    "import numpy as np\n",
    "import matplotlib.pyplot as plt\n",
    "from math import sqrt\n",
    "import ipywidgets as widgets\n",
    "from ipywidgets import interact, interact_manual\n",
    "from bayes_opt import BayesianOptimization"
   ]
  },
  {
   "cell_type": "code",
   "execution_count": 2,
   "metadata": {},
   "outputs": [],
   "source": [
    "#Parameter values\n",
    "\n",
    "#from Farquhar 1980\n",
    "#turnover rate for carboxylation\n",
    "kc = 2.5\n",
    "#turnover rate for oxygenation\n",
    "ko = .21*kc\n",
    "#light intensity\n",
    "I = 150\n",
    "#total enzyme concentration\n",
    "Et = 87.2\n",
    "#CO2 concentration\n",
    "C = 230\n",
    "#O2 concentration\n",
    "O = 210\n",
    "\n",
    "#from Ye 2020\n",
    "alpha = .295\n",
    "beta = 2.42*(10**(-3))\n",
    "gamma = 1.26*(10**(-4))\n",
    "\n",
    "#couldnt find turnover # for RuBP so am setting kr, etc. = kc\n",
    "kr = kc\n",
    "kprod = kc\n",
    "kE = kc\n",
    "\n",
    "#also guesses here\n",
    "kERC = .9*kc\n",
    "kERO = .9*ko\n",
    "\n",
    "#also note that kappa r and kappa c are 1 for simplicity's sake, and enzyme velocities for PGA reduction and RuBP regeneration are the same"
   ]
  },
  {
   "cell_type": "code",
   "execution_count": 3,
   "metadata": {},
   "outputs": [],
   "source": [
    "#model for PGA reduction vs RuBP *with Ye model for light\n",
    "def jprod(R, C = 230, O =210, kc = kc, ko = ko, I = I, Et = Et, alpha = alpha, beta = beta, gamma = gamma, kr = kr, kE = kE, kERO=kERO, kERC = kERC):\n",
    "    jph = I*alpha*(1-beta*I)/(1+gamma*I)\n",
    "    ksum = ko*O/kERO + kc*C/kERC\n",
    "    fE = (1 + ((1/(kr*R))+1)*ksum + kr*R*(1+ksum)/(ko*O + kc*C))**(-1)\n",
    "    jcA = kc*C*Et*(1+(kr*R/ksum))*fE\n",
    "    joA = ko*O*Et*(1+(kr*R/ksum))*fE\n",
    "    jpga = (2*jcA+1.5*joA)\n",
    "    jprod = ((1/kE)+(1/jph)+(1/jpga)-(1/(jpga+jph)))**(-1)\n",
    "    return jprod"
   ]
  },
  {
   "cell_type": "code",
   "execution_count": 4,
   "metadata": {},
   "outputs": [
    {
     "data": {
      "application/vnd.jupyter.widget-view+json": {
       "model_id": "8bd1de8eae5544ecb664b63fce0ddb08",
       "version_major": 2,
       "version_minor": 0
      },
      "text/plain": [
       "interactive(children=(IntSlider(value=230, description='C', max=690, min=-230), IntSlider(value=210, descripti…"
      ]
     },
     "metadata": {},
     "output_type": "display_data"
    }
   ],
   "source": [
    "#plotting jprod against RuBP\n",
    "@interact(Rsteps= (0, 5000, 10), Et = (0, 1000, 10), kr  = (.1, 10, .1))\n",
    "def simulateR(C = 230, O =210, kc = kc, ko = ko, I = I, Et = Et, alpha = alpha, beta = beta, gamma = gamma, kr = 10, kE = kE, kERO=kERO, kERC = kERC, Rsteps=300):\n",
    "    vcr = []\n",
    "    for k in range(1,Rsteps):\n",
    "        vcr.append(jprod(k, C=C, O=O, kc = kc, ko = ko, I = I, Et = Et, alpha = alpha, beta = beta, gamma = gamma, kr = kr, kE = kE, kERO=kERO, kERC = kERC))\n",
    "    ksum = ko*O/kERO + kc*C/kERC\n",
    "    \n",
    "    plt.plot(range(1,Rsteps), vcr)\n",
    "    plt.xlabel('RuBP')\n",
    "    plt.ylabel('jprod')\n",
    "    plt.show()"
   ]
  },
  {
   "cell_type": "code",
   "execution_count": 5,
   "metadata": {},
   "outputs": [],
   "source": [
    "#various models for irradiance\n",
    "#parameters\n",
    "zun = .21\n",
    "zdo = .33"
   ]
  },
  {
   "cell_type": "code",
   "execution_count": 6,
   "metadata": {},
   "outputs": [],
   "source": [
    "#Ye model\n",
    "def Ye(I, alpha = alpha, beta = beta, gamma = gamma):\n",
    "    jph = alpha*(1-beta*I)*I/(1+gamma*I)\n",
    "    return jph"
   ]
  },
  {
   "cell_type": "code",
   "execution_count": 7,
   "metadata": {},
   "outputs": [],
   "source": [
    "#Ye model with irradiance dependance\n",
    "def altYe(I, alpha = alpha, beta = beta, zun = zun, zdo = zdo, gamma = gamma):\n",
    "    frac = beta*I/(zun*I+zdo)\n",
    "    jph = I*alpha*(1-frac)/(1+gamma*I)\n",
    "    return jph"
   ]
  },
  {
   "cell_type": "code",
   "execution_count": 8,
   "metadata": {},
   "outputs": [],
   "source": [
    "#circuit formulation\n",
    "Imax = 700\n",
    "Rc = .01\n",
    "def circuit(I, Imax=Imax, Rc=Rc):\n",
    "    jph = I/((I/Imax)+Rc)\n",
    "    return jph"
   ]
  },
  {
   "cell_type": "code",
   "execution_count": 9,
   "metadata": {},
   "outputs": [
    {
     "data": {
      "application/vnd.jupyter.widget-view+json": {
       "model_id": "6ebb0a316e2a47889581b60947d5db89",
       "version_major": 2,
       "version_minor": 0
      },
      "text/plain": [
       "interactive(children=(IntSlider(value=5000, description='irange', max=15000, min=-5000), FloatSlider(value=0.2…"
      ]
     },
     "metadata": {},
     "output_type": "display_data"
    }
   ],
   "source": [
    "#Various models as functions of irradiance\n",
    "@interact()\n",
    "def simulatejph(irange=5000, zun=zun, zdo=zdo, Imax = Imax, Rc=Rc, alpha = alpha, beta = beta, gamma = gamma):\n",
    "    jphylist = []\n",
    "    jphalist = []\n",
    "    jphblist = []\n",
    "    for i in range(1,irange):\n",
    "        jphylist.append(Ye(i, alpha = alpha, beta = beta, gamma = gamma))\n",
    "        jphalist.append(altYe(i, alpha = alpha, beta = beta, zun = zun, zdo = zdo, gamma = gamma))\n",
    "        jphblist.append(circuit(i, Imax, Rc))\n",
    "    plt.plot(range(1,irange), jphylist, label='Ye model')\n",
    "    plt.plot(range(1, irange), jphalist, label = 'model A')\n",
    "    plt.plot(range(1,irange), jphblist, label = 'model B')\n",
    "    plt.xlabel('Irradiance')\n",
    "    plt.ylabel('jph')\n",
    "    plt.legend()\n",
    "    plt.show()"
   ]
  },
  {
   "cell_type": "code",
   "execution_count": 11,
   "metadata": {},
   "outputs": [],
   "source": [
    "#RuBP regeneration\n",
    "alphaa = 1\n",
    "alphab = 1\n",
    "def dRdtalt(R, C = 230, O =210, kc = kc, ko = ko, alphaa = alphaa, alphab = alphab, I = I, Et = Et, alpha = alpha, beta = beta, gamma = gamma, kr = kr, kE = kE, kERO=kERO, kERC = kERC):\n",
    "    jph = I*alpha*(1-beta*I)/(1+gamma*I)\n",
    "    ksum = ko*O/kERO + kc*C/kERC\n",
    "    fE = (1 + ((1/(kr*R))+1)*ksum + kr*R*(1+ksum)/(ko*O + kc*C))**(-1)\n",
    "    jcA = kc*C*Et*(1+(kr*R/ksum))*fE\n",
    "    joA = ko*O*Et*(1+(kr*R/ksum))*fE\n",
    "    jpga = (2*jcA+1.5*joA)\n",
    "    kEa = alphaa*kc\n",
    "    kEb = alphab*kc\n",
    "    jpc = (2/3)*jph\n",
    "    jpr = (1/3)*jph\n",
    "    jprod = (5/6)*((1/kEa)+(1/jpc)+(1/jpga)-(1/(jpga+jpc)))**(-1)\n",
    "    jrubp = (1/kEb + 1/jpr + 1/jprod - 1/(jpr+jprod))**(-1)\n",
    "    dRdt = -1*Et*fE*(kr*R+kc*C+ko*O) + jrubp\n",
    "    return dRdt"
   ]
  },
  {
   "cell_type": "code",
   "execution_count": 24,
   "metadata": {
    "scrolled": true
   },
   "outputs": [
    {
     "data": {
      "application/vnd.jupyter.widget-view+json": {
       "model_id": "4fbf4d0eca494038adee25fa9fc8c82b",
       "version_major": 2,
       "version_minor": 0
      },
      "text/plain": [
       "interactive(children=(FloatSlider(value=0.0014, description='Ro', max=0.0042, min=-0.0014), IntSlider(value=50…"
      ]
     },
     "metadata": {},
     "output_type": "display_data"
    }
   ],
   "source": [
    "@interact(alpha = (0,100,.1))\n",
    "#note that R does not scale to realistic values, likely due to wrong parameterization\n",
    "def simulatealtR(Ro = .0014, tsteps = 500, dt = .001, C = 230, O =210, kc = kc, ko = ko, alphaa = alphaa, alphab=alphab, I = I, Et = Et, alpha = alpha, beta = beta, gamma = gamma, kr = kr, kE = kE, kERO=kERO, kERC = kERC):\n",
    "    R = np.zeros(tsteps)\n",
    "    R[0] = Ro\n",
    "    for t in range(tsteps-1):\n",
    "        R[t+1] = R[t] + dRdtalt(R[t], C=C, alpha = alpha, alphaa = alphaa, alphab = alphab)*dt\n",
    "    plt.plot(range(tsteps),R, label = 'RuBP')\n",
    "    plt.legend()\n",
    "    plt.xlabel('time')\n",
    "    plt.show()"
   ]
  },
  {
   "cell_type": "code",
   "execution_count": 25,
   "metadata": {},
   "outputs": [],
   "source": [
    "#Alternative light model: dynamical system with balancing fluxes\n",
    "def jprodalt(pq, I, R):\n",
    "    jph = pq\n",
    "    ksum = ko*O/kERO + kc*C/kERC\n",
    "    fE = (1 + ((1/(kr*R))+1)*ksum + kr*R*(1+ksum)/(ko*O + kc*C))**(-1)\n",
    "    jcA = kc*C*Et*(1+(kr*R/ksum))*fE\n",
    "    joA = ko*O*Et*(1+(kr*R/ksum))*fE\n",
    "    jpga = (2*jcA+1.5*joA)\n",
    "    jprod = ((1/kE)+(1/jph)+(1/jpga)-(1/(jpga+jph)))**(-1)\n",
    "    dRdt = -1*Et*fE*(kr*R+kc*C+ko*O) + (5/6)*jprod\n",
    "    return jprod, dRdt"
   ]
  },
  {
   "cell_type": "code",
   "execution_count": 26,
   "metadata": {},
   "outputs": [],
   "source": [
    "def jpq(pq, I, R, jf=.1*I, fnpq=.2, jsyn=1.5):\n",
    "    jp, jr = jprodalt(pq, I, R)\n",
    "    jadp = 2*jp/3 + jr/3\n",
    "    jatp = (1/jsyn + 1/pq + 1/jadp - 1/(pq + jadp))**(-1)\n",
    "    jnpq = fnpq*(pq - jatp)\n",
    "    jpq = I - jf - jnpq\n",
    "    return jpq, jr, jnpq"
   ]
  },
  {
   "cell_type": "code",
   "execution_count": 27,
   "metadata": {},
   "outputs": [],
   "source": [
    "#light input\n",
    "def logistic(Io, Imax, x, kl):\n",
    "    f = Imax/(1+np.exp(-kl*(x-Io)))\n",
    "    return f"
   ]
  },
  {
   "cell_type": "code",
   "execution_count": 28,
   "metadata": {},
   "outputs": [
    {
     "data": {
      "application/vnd.jupyter.widget-view+json": {
       "model_id": "931bc2f4895c4e44af37d7bc4c0411dc",
       "version_major": 2,
       "version_minor": 0
      },
      "text/plain": [
       "interactive(children=(FloatSlider(value=5.0, description='pqo', max=10.0), IntSlider(value=250, description='R…"
      ]
     },
     "metadata": {},
     "output_type": "display_data"
    }
   ],
   "source": [
    "@interact(pqo = (0,10,.1), Ro=(0,500,10), time = (0,1000,1))\n",
    "def integrated(pqo, Ro, Io=100, Imax=500, kl = 1, time=1000, dt = .001, C = 230, O =210, kc = kc, ko = ko, Et = Et, alpha = alpha, beta = beta, gamma = gamma, kr = kr, kE = kE, kERO=kERO, kERC = kERC):\n",
    "    tsteps = np.linspace(0, time, time*10)\n",
    "    jpqlist = np.zeros(len(tsteps))\n",
    "    Rlist = np.zeros(len(tsteps))\n",
    "    npqlist = np.zeros(len(tsteps))\n",
    "    jpqlist[0] = pqo\n",
    "    Rlist[0] = Ro\n",
    "    ilist = [logistic(Io, Imax, t, kl) for t in tsteps]\n",
    "    for t in range(len(tsteps)-1):\n",
    "        jp, jr, npq = jpq(jpqlist[t], ilist[t], Rlist[t])\n",
    "        Rlist[t+1] = Rlist[t] + jr*dt\n",
    "        jpqlist[t+1] = jp\n",
    "        npqlist[t] = npq\n",
    "    plt.plot(tsteps, jpqlist, label='Jpq')\n",
    "    #plt.plot(tsteps, Rlist, label = 'RuBP')\n",
    "    plt.plot(tsteps, ilist, label='Irradiance')\n",
    "    npqlist[-1] = npqlist[-2]\n",
    "    plt.plot(tsteps, npqlist, label='NPQ')\n",
    "    plt.legend()\n",
    "    plt.xlabel('time')\n",
    "    plt.show()\n",
    "        "
   ]
  },
  {
   "cell_type": "code",
   "execution_count": null,
   "metadata": {},
   "outputs": [],
   "source": []
  }
 ],
 "metadata": {
  "kernelspec": {
   "display_name": "Python 3",
   "language": "python",
   "name": "python3"
  },
  "language_info": {
   "codemirror_mode": {
    "name": "ipython",
    "version": 3
   },
   "file_extension": ".py",
   "mimetype": "text/x-python",
   "name": "python",
   "nbconvert_exporter": "python",
   "pygments_lexer": "ipython3",
   "version": "3.7.3"
  }
 },
 "nbformat": 4,
 "nbformat_minor": 4
}
